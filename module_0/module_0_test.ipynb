{
 "cells": [
  {
   "cell_type": "code",
   "execution_count": 12,
   "metadata": {},
   "outputs": [
    {
     "name": "stdout",
     "output_type": "stream",
     "text": [
      "Ваш алгоритм угадывает число в среднем за 5 попыток\n"
     ]
    },
    {
     "data": {
      "text/plain": [
       "5"
      ]
     },
     "execution_count": 12,
     "metadata": {},
     "output_type": "execute_result"
    }
   ],
   "source": [
    "import numpy as np\n",
    "\n",
    "def get_median(x):\n",
    "    '''Находим медиану списка'''\n",
    "    sort_list=sorted(x)\n",
    "    index_right_center= int(len(sort_list))//2\n",
    "    if len(x)%2==0:\n",
    "        return int((sort_list[index_right_center]+sort_list[index_right_center-1])/2)\n",
    "    else:\n",
    "        return  int(sort_list[index_right_center])\n",
    "\n",
    "def score_game(game_core):\n",
    "    '''Запускаем игру 1000 раз, чтобы узнать, как быстро игра угадывает число'''\n",
    "    count_ls = []\n",
    "    np.random.seed(1)  # фиксируем RANDOM SEED, чтобы ваш эксперимент был воспроизводим!\n",
    "    random_array = np.random.randint(1,101, size=(1000))\n",
    "    for number in random_array:\n",
    "        count_ls.append(game_core(number))\n",
    "    score = int(np.mean(count_ls))\n",
    "    print(f\"Ваш алгоритм угадывает число в среднем за {score} попыток\")\n",
    "    return(score)\n",
    "\n",
    "def game_core_v2(number):\n",
    "    '''Начинаем угадывать с середины отрезка. Далее ограничиваем отрезок поиска медианой списка чисел\n",
    "    между максимальным и минимальным значением. Для начала поиска минимум = 1, максимум = 100, медиана 50'''\n",
    "    count = 1\n",
    "    predict = 50\n",
    "    minimum = 1\n",
    "    maximum = 100\n",
    "    while number != predict: \n",
    "        count+=1\n",
    "        if number > predict: \n",
    "            minimum = predict\n",
    "            more_number_list = [i for i in range(predict,maximum+2)]  \n",
    "            predict = get_median(more_number_list)\n",
    "        else:\n",
    "            maximum = predict\n",
    "            less_number_list = [i for i in range(minimum,predict+1)]\n",
    "            predict = get_median(less_number_list)\n",
    "    return(count) # выход из цикла, если угадали\n",
    "\n",
    "\n",
    "score_game(game_core_v2)"
   ]
  },
  {
   "cell_type": "code",
   "execution_count": null,
   "metadata": {},
   "outputs": [],
   "source": []
  }
 ],
 "metadata": {
  "kernelspec": {
   "display_name": "Python 3",
   "language": "python",
   "name": "python3"
  },
  "language_info": {
   "codemirror_mode": {
    "name": "ipython",
    "version": 3
   },
   "file_extension": ".py",
   "mimetype": "text/x-python",
   "name": "python",
   "nbconvert_exporter": "python",
   "pygments_lexer": "ipython3",
   "version": "3.7.6"
  }
 },
 "nbformat": 4,
 "nbformat_minor": 4
}
