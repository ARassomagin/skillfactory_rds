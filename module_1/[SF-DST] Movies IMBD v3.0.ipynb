{
 "cells": [
  {
   "cell_type": "code",
   "execution_count": 17,
   "metadata": {
    "_cell_guid": "b1076dfc-b9ad-4769-8c92-a6c4dae69d19",
    "_uuid": "8f2839f25d086af736a60e9eeb907d3b93b6e0e5"
   },
   "outputs": [
    {
     "name": "stdout",
     "output_type": "stream",
     "text": [
      "['.DS_Store', 'imbd-sf']\n"
     ]
    }
   ],
   "source": [
    "import numpy as np\n",
    "import pandas as pd\n",
    "import seaborn as sns\n",
    "import matplotlib.pyplot as plt\n",
    "import os\n",
    "from collections import Counter\n",
    "print(os.listdir('input'))"
   ]
  },
  {
   "cell_type": "code",
   "execution_count": 18,
   "metadata": {},
   "outputs": [
    {
     "data": {
      "text/html": [
       "<div>\n",
       "<style scoped>\n",
       "    .dataframe tbody tr th:only-of-type {\n",
       "        vertical-align: middle;\n",
       "    }\n",
       "\n",
       "    .dataframe tbody tr th {\n",
       "        vertical-align: top;\n",
       "    }\n",
       "\n",
       "    .dataframe thead th {\n",
       "        text-align: right;\n",
       "    }\n",
       "</style>\n",
       "<table border=\"1\" class=\"dataframe\">\n",
       "  <thead>\n",
       "    <tr style=\"text-align: right;\">\n",
       "      <th></th>\n",
       "      <th>imdb_id</th>\n",
       "      <th>popularity</th>\n",
       "      <th>budget</th>\n",
       "      <th>revenue</th>\n",
       "      <th>original_title</th>\n",
       "      <th>cast</th>\n",
       "      <th>director</th>\n",
       "      <th>tagline</th>\n",
       "      <th>overview</th>\n",
       "      <th>runtime</th>\n",
       "      <th>genres</th>\n",
       "      <th>production_companies</th>\n",
       "      <th>release_date</th>\n",
       "      <th>vote_count</th>\n",
       "      <th>vote_average</th>\n",
       "      <th>release_year</th>\n",
       "    </tr>\n",
       "  </thead>\n",
       "  <tbody>\n",
       "    <tr>\n",
       "      <th>0</th>\n",
       "      <td>tt0369610</td>\n",
       "      <td>32.985763</td>\n",
       "      <td>150000000</td>\n",
       "      <td>1513528810</td>\n",
       "      <td>Jurassic World</td>\n",
       "      <td>Chris Pratt|Bryce Dallas Howard|Irrfan Khan|Vi...</td>\n",
       "      <td>Colin Trevorrow</td>\n",
       "      <td>The park is open.</td>\n",
       "      <td>Twenty-two years after the events of Jurassic ...</td>\n",
       "      <td>124</td>\n",
       "      <td>Action|Adventure|Science Fiction|Thriller</td>\n",
       "      <td>Universal Studios|Amblin Entertainment|Legenda...</td>\n",
       "      <td>6/9/2015</td>\n",
       "      <td>5562</td>\n",
       "      <td>6.5</td>\n",
       "      <td>2015</td>\n",
       "    </tr>\n",
       "    <tr>\n",
       "      <th>1</th>\n",
       "      <td>tt1392190</td>\n",
       "      <td>28.419936</td>\n",
       "      <td>150000000</td>\n",
       "      <td>378436354</td>\n",
       "      <td>Mad Max: Fury Road</td>\n",
       "      <td>Tom Hardy|Charlize Theron|Hugh Keays-Byrne|Nic...</td>\n",
       "      <td>George Miller</td>\n",
       "      <td>What a Lovely Day.</td>\n",
       "      <td>An apocalyptic story set in the furthest reach...</td>\n",
       "      <td>120</td>\n",
       "      <td>Action|Adventure|Science Fiction|Thriller</td>\n",
       "      <td>Village Roadshow Pictures|Kennedy Miller Produ...</td>\n",
       "      <td>5/13/2015</td>\n",
       "      <td>6185</td>\n",
       "      <td>7.1</td>\n",
       "      <td>2015</td>\n",
       "    </tr>\n",
       "    <tr>\n",
       "      <th>2</th>\n",
       "      <td>tt2908446</td>\n",
       "      <td>13.112507</td>\n",
       "      <td>110000000</td>\n",
       "      <td>295238201</td>\n",
       "      <td>Insurgent</td>\n",
       "      <td>Shailene Woodley|Theo James|Kate Winslet|Ansel...</td>\n",
       "      <td>Robert Schwentke</td>\n",
       "      <td>One Choice Can Destroy You</td>\n",
       "      <td>Beatrice Prior must confront her inner demons ...</td>\n",
       "      <td>119</td>\n",
       "      <td>Adventure|Science Fiction|Thriller</td>\n",
       "      <td>Summit Entertainment|Mandeville Films|Red Wago...</td>\n",
       "      <td>3/18/2015</td>\n",
       "      <td>2480</td>\n",
       "      <td>6.3</td>\n",
       "      <td>2015</td>\n",
       "    </tr>\n",
       "    <tr>\n",
       "      <th>3</th>\n",
       "      <td>tt2488496</td>\n",
       "      <td>11.173104</td>\n",
       "      <td>200000000</td>\n",
       "      <td>2068178225</td>\n",
       "      <td>Star Wars: The Force Awakens</td>\n",
       "      <td>Harrison Ford|Mark Hamill|Carrie Fisher|Adam D...</td>\n",
       "      <td>J.J. Abrams</td>\n",
       "      <td>Every generation has a story.</td>\n",
       "      <td>Thirty years after defeating the Galactic Empi...</td>\n",
       "      <td>136</td>\n",
       "      <td>Action|Adventure|Science Fiction|Fantasy</td>\n",
       "      <td>Lucasfilm|Truenorth Productions|Bad Robot</td>\n",
       "      <td>12/15/2015</td>\n",
       "      <td>5292</td>\n",
       "      <td>7.5</td>\n",
       "      <td>2015</td>\n",
       "    </tr>\n",
       "    <tr>\n",
       "      <th>4</th>\n",
       "      <td>tt2820852</td>\n",
       "      <td>9.335014</td>\n",
       "      <td>190000000</td>\n",
       "      <td>1506249360</td>\n",
       "      <td>Furious 7</td>\n",
       "      <td>Vin Diesel|Paul Walker|Jason Statham|Michelle ...</td>\n",
       "      <td>James Wan</td>\n",
       "      <td>Vengeance Hits Home</td>\n",
       "      <td>Deckard Shaw seeks revenge against Dominic Tor...</td>\n",
       "      <td>137</td>\n",
       "      <td>Action|Crime|Thriller</td>\n",
       "      <td>Universal Pictures|Original Film|Media Rights ...</td>\n",
       "      <td>4/1/2015</td>\n",
       "      <td>2947</td>\n",
       "      <td>7.3</td>\n",
       "      <td>2015</td>\n",
       "    </tr>\n",
       "  </tbody>\n",
       "</table>\n",
       "</div>"
      ],
      "text/plain": [
       "     imdb_id  popularity     budget     revenue                original_title  \\\n",
       "0  tt0369610   32.985763  150000000  1513528810                Jurassic World   \n",
       "1  tt1392190   28.419936  150000000   378436354            Mad Max: Fury Road   \n",
       "2  tt2908446   13.112507  110000000   295238201                     Insurgent   \n",
       "3  tt2488496   11.173104  200000000  2068178225  Star Wars: The Force Awakens   \n",
       "4  tt2820852    9.335014  190000000  1506249360                     Furious 7   \n",
       "\n",
       "                                                cast          director  \\\n",
       "0  Chris Pratt|Bryce Dallas Howard|Irrfan Khan|Vi...   Colin Trevorrow   \n",
       "1  Tom Hardy|Charlize Theron|Hugh Keays-Byrne|Nic...     George Miller   \n",
       "2  Shailene Woodley|Theo James|Kate Winslet|Ansel...  Robert Schwentke   \n",
       "3  Harrison Ford|Mark Hamill|Carrie Fisher|Adam D...       J.J. Abrams   \n",
       "4  Vin Diesel|Paul Walker|Jason Statham|Michelle ...         James Wan   \n",
       "\n",
       "                         tagline  \\\n",
       "0              The park is open.   \n",
       "1             What a Lovely Day.   \n",
       "2     One Choice Can Destroy You   \n",
       "3  Every generation has a story.   \n",
       "4            Vengeance Hits Home   \n",
       "\n",
       "                                            overview  runtime  \\\n",
       "0  Twenty-two years after the events of Jurassic ...      124   \n",
       "1  An apocalyptic story set in the furthest reach...      120   \n",
       "2  Beatrice Prior must confront her inner demons ...      119   \n",
       "3  Thirty years after defeating the Galactic Empi...      136   \n",
       "4  Deckard Shaw seeks revenge against Dominic Tor...      137   \n",
       "\n",
       "                                      genres  \\\n",
       "0  Action|Adventure|Science Fiction|Thriller   \n",
       "1  Action|Adventure|Science Fiction|Thriller   \n",
       "2         Adventure|Science Fiction|Thriller   \n",
       "3   Action|Adventure|Science Fiction|Fantasy   \n",
       "4                      Action|Crime|Thriller   \n",
       "\n",
       "                                production_companies release_date  vote_count  \\\n",
       "0  Universal Studios|Amblin Entertainment|Legenda...     6/9/2015        5562   \n",
       "1  Village Roadshow Pictures|Kennedy Miller Produ...    5/13/2015        6185   \n",
       "2  Summit Entertainment|Mandeville Films|Red Wago...    3/18/2015        2480   \n",
       "3          Lucasfilm|Truenorth Productions|Bad Robot   12/15/2015        5292   \n",
       "4  Universal Pictures|Original Film|Media Rights ...     4/1/2015        2947   \n",
       "\n",
       "   vote_average  release_year  \n",
       "0           6.5          2015  \n",
       "1           7.1          2015  \n",
       "2           6.3          2015  \n",
       "3           7.5          2015  \n",
       "4           7.3          2015  "
      ]
     },
     "execution_count": 18,
     "metadata": {},
     "output_type": "execute_result"
    }
   ],
   "source": [
    "df = pd.read_csv('input/imbd-sf/data.csv')\n",
    "df.head(5)"
   ]
  },
  {
   "cell_type": "code",
   "execution_count": 16,
   "metadata": {},
   "outputs": [
    {
     "data": {
      "text/plain": [
       "1890"
      ]
     },
     "execution_count": 16,
     "metadata": {},
     "output_type": "execute_result"
    }
   ],
   "source": [
    "len(data)"
   ]
  },
  {
   "cell_type": "markdown",
   "metadata": {},
   "source": [
    "# Предобработка датасета"
   ]
  },
  {
   "cell_type": "code",
   "execution_count": 17,
   "metadata": {},
   "outputs": [],
   "source": [
    "answer_ls = [] # создадим список с ответами. сюда будем добавлять ответы по мере прохождения теста\n",
    "# сюда можем вписать создание новых колонок в датасете"
   ]
  },
  {
   "cell_type": "markdown",
   "metadata": {},
   "source": [
    "# 1. У какого фильма из списка самый большой бюджет?\n",
    "Варианты ответов:\n",
    "1. The Dark Knight Rises (tt1345836)\n",
    "2. Spider-Man 3 (tt0413300)\n",
    "3. Avengers: Age of Ultron (tt2395427)\n",
    "4. The Warrior's Way\t(tt1032751)\n",
    "5. Pirates of the Caribbean: On Stranger Tides (tt1298650)"
   ]
  },
  {
   "cell_type": "code",
   "execution_count": 18,
   "metadata": {},
   "outputs": [
    {
     "data": {
      "text/plain": [
       "491    The Warrior's Way\n",
       "Name: original_title, dtype: object"
      ]
     },
     "execution_count": 18,
     "metadata": {},
     "output_type": "execute_result"
    }
   ],
   "source": [
    "df[df.budget == df.budget.max()].original_title"
   ]
  },
  {
   "cell_type": "code",
   "execution_count": 19,
   "metadata": {},
   "outputs": [],
   "source": [
    "# тут вводим ваш ответ и добавлем в его список ответов (сейчас для примера стоит \"1\")\n",
    "answer_ls.append(4)"
   ]
  },
  {
   "cell_type": "markdown",
   "metadata": {},
   "source": [
    "# 2. Какой из фильмов самый длительный (в минутах)\n",
    "1. The Lord of the Rings: The Return of the King\t(tt0167260)\n",
    "2. Gods and Generals\t(tt0279111)\n",
    "3. King Kong\t(tt0360717)\n",
    "4. Pearl Harbor\t(tt0213149)\n",
    "5. Alexander\t(tt0346491)"
   ]
  },
  {
   "cell_type": "code",
   "execution_count": 20,
   "metadata": {},
   "outputs": [
    {
     "data": {
      "text/plain": [
       "1158    Gods and Generals\n",
       "Name: original_title, dtype: object"
      ]
     },
     "execution_count": 20,
     "metadata": {},
     "output_type": "execute_result"
    }
   ],
   "source": [
    "df[df.runtime == df.runtime.max()].original_title"
   ]
  },
  {
   "cell_type": "code",
   "execution_count": 21,
   "metadata": {},
   "outputs": [],
   "source": [
    "answer_ls.append(2)"
   ]
  },
  {
   "cell_type": "markdown",
   "metadata": {},
   "source": [
    "# 3. Какой из фильмов самый короткий (в минутах)\n",
    "Варианты ответов:\n",
    "\n",
    "1. Home on the Range\ttt0299172\n",
    "2. The Jungle Book 2\ttt0283426\n",
    "3. Winnie the Pooh\ttt1449283\n",
    "4. Corpse Bride\ttt0121164\n",
    "5. Hoodwinked!\ttt0443536"
   ]
  },
  {
   "cell_type": "code",
   "execution_count": 22,
   "metadata": {},
   "outputs": [
    {
     "data": {
      "text/plain": [
       "769    Winnie the Pooh\n",
       "Name: original_title, dtype: object"
      ]
     },
     "execution_count": 22,
     "metadata": {},
     "output_type": "execute_result"
    }
   ],
   "source": [
    "df[df.runtime == df.runtime.min()].original_title"
   ]
  },
  {
   "cell_type": "code",
   "execution_count": 23,
   "metadata": {},
   "outputs": [],
   "source": [
    "answer_ls.append(3)"
   ]
  },
  {
   "cell_type": "markdown",
   "metadata": {},
   "source": [
    "# 4. Средняя длительность фильма?\n",
    "\n",
    "Варианты ответов:\n",
    "1. 115\n",
    "2. 110\n",
    "3. 105\n",
    "4. 120\n",
    "5. 100\n"
   ]
  },
  {
   "cell_type": "code",
   "execution_count": 24,
   "metadata": {},
   "outputs": [
    {
     "data": {
      "text/plain": [
       "109.65343915343915"
      ]
     },
     "execution_count": 24,
     "metadata": {},
     "output_type": "execute_result"
    }
   ],
   "source": [
    "df.runtime.mean()"
   ]
  },
  {
   "cell_type": "code",
   "execution_count": 25,
   "metadata": {},
   "outputs": [],
   "source": [
    "answer_ls.append(2)"
   ]
  },
  {
   "cell_type": "markdown",
   "metadata": {},
   "source": [
    "# 5. Средняя длительность фильма по медиане?\n",
    "Варианты ответов:\n",
    "1. 106\n",
    "2. 112\n",
    "3. 101\n",
    "4. 120\n",
    "5. 115\n",
    "\n",
    "\n"
   ]
  },
  {
   "cell_type": "code",
   "execution_count": 26,
   "metadata": {},
   "outputs": [
    {
     "data": {
      "text/plain": [
       "106.5"
      ]
     },
     "execution_count": 26,
     "metadata": {},
     "output_type": "execute_result"
    }
   ],
   "source": [
    "df.runtime.median()"
   ]
  },
  {
   "cell_type": "code",
   "execution_count": 27,
   "metadata": {},
   "outputs": [],
   "source": [
    "answer_ls.append(1)"
   ]
  },
  {
   "cell_type": "markdown",
   "metadata": {},
   "source": [
    "# 6. Какой самый прибыльный фильм?\n",
    "Варианты ответов:\n",
    "1. The Avengers\ttt0848228\n",
    "2. Minions\ttt2293640\n",
    "3. Star Wars: The Force Awakens\ttt2488496\n",
    "4. Furious 7\ttt2820852\n",
    "5. Avatar\ttt0499549"
   ]
  },
  {
   "cell_type": "code",
   "execution_count": 19,
   "metadata": {},
   "outputs": [
    {
     "data": {
      "text/plain": [
       "239    Avatar\n",
       "Name: original_title, dtype: object"
      ]
     },
     "execution_count": 19,
     "metadata": {},
     "output_type": "execute_result"
    }
   ],
   "source": [
    "df['profit'] = df.revenue - df.budget\n",
    "df[df.profit == df.profit.max()].original_title"
   ]
  },
  {
   "cell_type": "code",
   "execution_count": 29,
   "metadata": {},
   "outputs": [],
   "source": [
    "answer_ls.append(5)"
   ]
  },
  {
   "cell_type": "markdown",
   "metadata": {},
   "source": [
    "# 7. Какой фильм самый убыточный?\n",
    "Варианты ответов:\n",
    "1. Supernova tt0134983\n",
    "2. The Warrior's Way tt1032751\n",
    "3. Flushed Away\ttt0424095\n",
    "4. The Adventures of Pluto Nash\ttt0180052\n",
    "5. The Lone Ranger\ttt1210819"
   ]
  },
  {
   "cell_type": "code",
   "execution_count": 30,
   "metadata": {},
   "outputs": [
    {
     "data": {
      "text/plain": [
       "491    The Warrior's Way\n",
       "Name: original_title, dtype: object"
      ]
     },
     "execution_count": 30,
     "metadata": {},
     "output_type": "execute_result"
    }
   ],
   "source": [
    "df[df.profit == df.profit.min()].original_title"
   ]
  },
  {
   "cell_type": "code",
   "execution_count": 31,
   "metadata": {},
   "outputs": [],
   "source": [
    "answer_ls.append(2)"
   ]
  },
  {
   "cell_type": "markdown",
   "metadata": {},
   "source": [
    "# 8. Сколько всего фильмов в прибыли?\n",
    "Варианты ответов:\n",
    "1. 1478\n",
    "2. 1520\n",
    "3. 1241\n",
    "4. 1135\n",
    "5. 1398\n"
   ]
  },
  {
   "cell_type": "code",
   "execution_count": 32,
   "metadata": {},
   "outputs": [
    {
     "data": {
      "text/plain": [
       "1478"
      ]
     },
     "execution_count": 32,
     "metadata": {},
     "output_type": "execute_result"
    }
   ],
   "source": [
    "df[df.profit > 0].original_title.count()"
   ]
  },
  {
   "cell_type": "code",
   "execution_count": 33,
   "metadata": {},
   "outputs": [],
   "source": [
    "answer_ls.append(1)"
   ]
  },
  {
   "cell_type": "markdown",
   "metadata": {},
   "source": [
    "# 9. Самый прибыльный фильм в 2008 году?\n",
    "Варианты ответов:\n",
    "1. Madagascar: Escape 2 Africa\ttt0479952\n",
    "2. Iron Man\ttt0371746\n",
    "3. Kung Fu Panda\ttt0441773\n",
    "4. The Dark Knight\ttt0468569\n",
    "5. Mamma Mia!\ttt0795421"
   ]
  },
  {
   "cell_type": "code",
   "execution_count": 34,
   "metadata": {},
   "outputs": [
    {
     "data": {
      "text/plain": [
       "600    The Dark Knight\n",
       "Name: original_title, dtype: object"
      ]
     },
     "execution_count": 34,
     "metadata": {},
     "output_type": "execute_result"
    }
   ],
   "source": [
    "df[df.profit == df[df.release_year == 2008].profit.max()].original_title"
   ]
  },
  {
   "cell_type": "code",
   "execution_count": 35,
   "metadata": {},
   "outputs": [],
   "source": [
    "answer_ls.append(4)"
   ]
  },
  {
   "cell_type": "markdown",
   "metadata": {},
   "source": [
    "# 10. Самый убыточный фильм за период с 2012 по 2014 (включительно)?\n",
    "Варианты ответов:\n",
    "1. Winter's Tale\ttt1837709\n",
    "2. Stolen\ttt1656186\n",
    "3. Broken City\ttt1235522\n",
    "4. Upside Down\ttt1374992\n",
    "5. The Lone Ranger\ttt1210819\n"
   ]
  },
  {
   "cell_type": "code",
   "execution_count": 36,
   "metadata": {},
   "outputs": [
    {
     "data": {
      "text/plain": [
       "1246    The Lone Ranger\n",
       "Name: original_title, dtype: object"
      ]
     },
     "execution_count": 36,
     "metadata": {},
     "output_type": "execute_result"
    }
   ],
   "source": [
    "df[df.profit == df[(df.release_year >= 2012)&(df.release_year <= 2014)].profit.min()].original_title"
   ]
  },
  {
   "cell_type": "code",
   "execution_count": 37,
   "metadata": {},
   "outputs": [],
   "source": [
    "answer_ls.append(5)"
   ]
  },
  {
   "cell_type": "markdown",
   "metadata": {},
   "source": [
    "# 11. Какого жанра фильмов больше всего?\n",
    "Варианты ответов:\n",
    "1. Action\n",
    "2. Adventure\n",
    "3. Drama\n",
    "4. Comedy\n",
    "5. Thriller"
   ]
  },
  {
   "cell_type": "code",
   "execution_count": 38,
   "metadata": {},
   "outputs": [
    {
     "data": {
      "text/plain": [
       "[('Drama', 782)]"
      ]
     },
     "execution_count": 38,
     "metadata": {},
     "output_type": "execute_result"
    }
   ],
   "source": [
    "genre_counter = Counter()\n",
    "for x in df.genres.str.split('|'):\n",
    "    genre_counter += Counter(x)\n",
    "genre_counter.most_common(1)"
   ]
  },
  {
   "cell_type": "code",
   "execution_count": 39,
   "metadata": {},
   "outputs": [],
   "source": [
    "answer_ls.append(3)"
   ]
  },
  {
   "cell_type": "markdown",
   "metadata": {},
   "source": [
    "# 12. Какого жанра среди прибыльных фильмов больше всего?\n",
    "Варианты ответов:\n",
    "1. Drama\n",
    "2. Comedy\n",
    "3. Action\n",
    "4. Thriller\n",
    "5. Adventure"
   ]
  },
  {
   "cell_type": "code",
   "execution_count": 40,
   "metadata": {},
   "outputs": [
    {
     "data": {
      "text/plain": [
       "[('Drama', 560)]"
      ]
     },
     "execution_count": 40,
     "metadata": {},
     "output_type": "execute_result"
    }
   ],
   "source": [
    "genre_counter2 = Counter()\n",
    "for x in df[df.profit > 0].genres.str.split('|'):\n",
    "    genre_counter2 += Counter(x)\n",
    "genre_counter2.most_common(1)"
   ]
  },
  {
   "cell_type": "code",
   "execution_count": 41,
   "metadata": {},
   "outputs": [],
   "source": [
    "answer_ls.append(1)"
   ]
  },
  {
   "cell_type": "markdown",
   "metadata": {},
   "source": [
    "# 13. Кто из режиссеров снял больше всего фильмов?\n",
    "Варианты ответов:\n",
    "1. Steven Spielberg\n",
    "2. Ridley Scott \n",
    "3. Steven Soderbergh\n",
    "4. Christopher Nolan\n",
    "5. Clint Eastwood"
   ]
  },
  {
   "cell_type": "code",
   "execution_count": 37,
   "metadata": {},
   "outputs": [
    {
     "name": "stdout",
     "output_type": "stream",
     "text": [
      "Colin Trevorrow 1\n",
      "George Miller 3\n",
      "Robert Schwentke 4\n",
      "J.J. Abrams 5\n",
      "James Wan 4\n",
      "Alejandro GonzÃ¡lez IÃ±Ã¡rritu 4\n",
      "Alan Taylor 2\n",
      "Ridley Scott 12\n",
      "Kyle Balda 2\n",
      "Pierre Coffin 3\n",
      "Pete Docter 3\n",
      "Sam Mendes 5\n",
      "Lana Wachowski 5\n",
      "Lilly Wachowski 5\n",
      "Alex Garland 1\n",
      "Chris Columbus 5\n",
      "Joss Whedon 2\n",
      "Quentin Tarantino 7\n",
      "Olivier Megaton 4\n",
      "Peyton Reed 5\n",
      "Kenneth Branagh 3\n",
      "Francis Lawrence 6\n",
      "Brad Bird 4\n",
      "Antoine Fuqua 8\n",
      "Brad Peyton 3\n",
      "Sam Taylor-Johnson 1\n",
      "Adam McKay 6\n",
      "Christopher McQuarrie 2\n",
      "Seth MacFarlane 2\n",
      "Matthew Vaughn 4\n",
      "Tom McCarthy 1\n",
      "Wes Ball 2\n",
      "Neill Blomkamp 3\n",
      "Elizabeth Banks 2\n",
      "Steven Spielberg 10\n",
      "Rob Letterman 4\n",
      "Lenny Abrahamson 1\n",
      "Peter Sohn 1\n",
      "Jaume Collet-Serra 5\n",
      "John Crowley 1\n",
      "F. Gary Gray 5\n",
      "Breck Eisner 3\n",
      "Guy Ritchie 5\n",
      "Lee Toland Krieger 1\n",
      "Ilya Naishuller 1\n",
      "Tim Johnson 2\n",
      "Jake Schreier 1\n",
      "Todd Haynes 3\n",
      "Nancy Meyers 5\n",
      "Baltasar KormÃ¡kur 3\n",
      "Ericson Core 1\n",
      "John Wells 3\n",
      "Tarsem Singh 4\n",
      "David Koepp 3\n",
      "Tom Hooper 3\n",
      "Michael Mann 5\n",
      "Denis Villeneuve 2\n",
      "Josh Trank 2\n",
      "Paul Feig 3\n",
      "Glenn Ficarra 3\n",
      "John Requa 3\n",
      "Aleksander Bach 1\n",
      "Ron Howard 8\n",
      "Ryan Coogler 1\n",
      "Judd Apatow 5\n",
      "Gavin Hood 4\n",
      "Brian Helgeland 4\n",
      "Joe Wright 5\n",
      "Steve Martino 3\n",
      "Peter Landesman 1\n",
      "Jonathan Levine 3\n",
      "George Tillman, Jr. 2\n",
      "Genndy Tartakovsky 2\n",
      "Jessie Nelson 2\n",
      "Robert Zemeckis 6\n",
      "John Francis Daley 1\n",
      "Jonathan M. Goldstein 1\n",
      "Gil Kenan 3\n",
      "Daniel Espinosa 2\n",
      "Joel Edgerton 1\n",
      "Sean Anders 3\n",
      "Mark Osborne 2\n",
      "Jocelyn Moorhouse 1\n",
      "Ari Sandel 1\n",
      "Ciaran Foy 1\n",
      "Andy Fickman 6\n",
      "Doug Ellin 1\n",
      "Jeremy Garelick 1\n",
      "M. Night Shyamalan 8\n",
      "Scott Cooper 3\n",
      "Michael Dougherty 1\n",
      "John Erick Dowdle 4\n",
      "Simon Curtis 2\n",
      "Jason Moore 2\n",
      "Dean Israelite 1\n",
      "Camille Delamarre 2\n",
      "Guillermo del Toro 5\n",
      "Gregory Jacobs 1\n",
      "Gregory Plotkin 1\n",
      "Jay Roach 5\n",
      "Billy Ray 1\n",
      "Paul Tibbitt 1\n",
      "Boaz Yakin 4\n",
      "Pierre Morel 3\n",
      "Anne Fletcher 4\n",
      "Leigh Whannell 1\n",
      "Nicholas Hytner 1\n",
      "Paul McGuigan 4\n",
      "Jonathan Demme 2\n",
      "David M. Rosenthal 1\n",
      "Noah Baumbach 1\n",
      "Etan Cohen 1\n",
      "Sarah Gavron 1\n",
      "Max Joseph 1\n",
      "Alejandro Monteverde 1\n",
      "Cameron Crowe 5\n",
      "David Gordon Green 4\n",
      "Barry Levinson 4\n",
      "Ken Kwapis 5\n",
      "Ken Scott 2\n",
      "Mike Binder 2\n",
      "Jon M. Chu 4\n",
      "Christopher Nolan 8\n",
      "James Gunn 2\n",
      "Joe Russo 2\n",
      "Anthony Russo 2\n",
      "Chad Stahelski 1\n",
      "David Leitch 1\n",
      "Peter Jackson 8\n",
      "Don Hall 2\n",
      "Chris Williams 2\n",
      "Morten Tyldum 1\n",
      "David Fincher 6\n",
      "David Ayer 4\n",
      "Shawn Levy 10\n",
      "Neil Burger 3\n",
      "Bryan Singer 5\n",
      "Luc Besson 2\n",
      "Jonathan Liebesman 3\n",
      "Jake Kasdan 3\n",
      "Dan Gilroy 1\n",
      "Michael Bay 8\n",
      "Wes Anderson 5\n",
      "Matt Reeves 3\n",
      "Marc Webb 3\n",
      "Doug Liman 5\n",
      "Evan Goldberg 2\n",
      "Seth Rogen 2\n",
      "Clint Eastwood 12\n",
      "Gareth Edwards 1\n",
      "Robert Stromberg 1\n",
      "Roger Donaldson 3\n",
      "Stiles White 1\n",
      "Dean DeBlois 3\n",
      "Patrick Hughes 1\n",
      "Phil Lord 4\n",
      "Christopher Miller 4\n",
      "Sergey Bodrov 1\n",
      "James Marsh 1\n",
      "Luke Greenfield 4\n",
      "Gary Shore 1\n",
      "Simon J. Smith 2\n",
      "Eric Darnell 4\n",
      "Rob Marshall 4\n",
      "Noam Murro 2\n",
      "Phillip Noyce 2\n",
      "Scott Frank 2\n",
      "Paul King 1\n",
      "Daniel Barnz 2\n",
      "Jon Favreau 5\n",
      "James DeMonaco 1\n",
      "Vic Armstrong 1\n",
      "J.C. Chandor 2\n",
      "Brett Ratner 8\n",
      "Darren Aronofsky 4\n",
      "David Dobkin 5\n",
      "Frank Coraci 4\n",
      "Nicholas Stoller 4\n",
      "R.J. Cutler 1\n",
      "Trish Sie 1\n",
      "Josh Boone 1\n",
      "Tim Story 6\n",
      "Paul Thomas Anderson 3\n",
      "Michael Spierig 2\n",
      "Peter Spierig 2\n",
      "JosÃ© Padilha 1\n",
      "Wally Pfister 1\n",
      "Nick Cassavetes 4\n",
      "Rob Minkoff 4\n",
      "Frank Miller 3\n",
      "Robert Rodriguez 11\n",
      "Carlos Saldanha 5\n",
      "Bobby Farrelly 9\n",
      "Peter Farrelly 10\n",
      "George Clooney 4\n",
      "Angelina Jolie 1\n",
      "Ava DuVernay 1\n",
      "Paul W.S. Anderson 7\n",
      "Michael Hoffman 1\n",
      "Will Gluck 3\n",
      "Theodore Melfi 1\n",
      "Scott Waugh 2\n",
      "Lasse HallstrÃ¶m 7\n",
      "Graham Annable 1\n",
      "Anthony Stacchi 2\n",
      "Tim Burton 9\n",
      "Brian A Miller 1\n",
      "Steven Quale 2\n",
      "Roberts Gannaway 1\n",
      "Sam Miller 1\n",
      "Bennett Miller 3\n",
      "Shana Feste 2\n",
      "David MichÃ´d 1\n",
      "Saul Dibb 1\n",
      "John R. Leonetti 1\n",
      "Stuart Beattie 2\n",
      "Tom Gormican 1\n",
      "Ben Falcone 1\n",
      "Akiva Goldsman 1\n",
      "Adam Wingard 1\n",
      "Russell Crowe 1\n",
      "Miguel Arteta 2\n",
      "Steve Pink 3\n",
      "Craig Gillespie 2\n",
      "Jonathan Glazer 1\n",
      "Rob Thomas 1\n",
      "Christopher Spencer 1\n",
      "Thomas Carter 3\n",
      "GrÃ©gory Levasseur 1\n",
      "Michael Cuesta 1\n",
      "Charles Martin Smith 2\n",
      "James Bobin 2\n",
      "Randall Wallace 3\n",
      "Renny Harlin 5\n",
      "Andrew Erwin 1\n",
      "Jon Erwin 1\n",
      "Dave Green 1\n",
      "Rupert Wyatt 2\n",
      "Don McKellar 1\n",
      "Harold Cronk 1\n",
      "Matt Bettinelli-Olpin 1\n",
      "Tyler Gillett 1\n",
      "James Cameron 2\n",
      "Patrick Tatopoulos 1\n",
      "David Yates 4\n",
      "Bob Peterson 1\n",
      "McG 4\n",
      "Todd Phillips 8\n",
      "Zack Snyder 6\n",
      "Roland Emmerich 5\n",
      "Shane Acker 1\n",
      "Ron Clements 2\n",
      "John Musker 2\n",
      "John Lee Hancock 4\n",
      "Ruben Fleischer 3\n",
      "Chris Weitz 3\n",
      "Stephen Sommers 3\n",
      "Robert Luketic 6\n",
      "Henry Selick 2\n",
      "Burr Steers 3\n",
      "Steve Carr 6\n",
      "Richard Kelly 1\n",
      "Mark Neveldine 4\n",
      "Brian Taylor 4\n",
      "Christian Alvart 2\n",
      "Sam Raimi 6\n",
      "Alex Proyas 2\n",
      "Duncan Jones 2\n",
      "Hoyt Yeatman 1\n",
      "Tony Scott 6\n",
      "Ricky Gervais 1\n",
      "Matthew Robinson 1\n",
      "P.J. Hogan 2\n",
      "Jaco Van Dormael 1\n",
      "Peter Billingsley 1\n",
      "Jim Sheridan 3\n",
      "John Hillcoat 2\n",
      "Conrad Vernon 3\n",
      "Nora Ephron 2\n",
      "Atom Egoyan 1\n",
      "Karyn Kusama 2\n",
      "Phil Traill 1\n",
      "David R. Ellis 5\n",
      "Betty Thomas 3\n",
      "Gary Winick 2\n",
      "Lee Daniels 2\n",
      "Kevin Macdonald 3\n",
      "David S. Goyer 3\n",
      "John Hamburg 2\n",
      "Steven Soderbergh 13\n",
      "Richard Curtis 2\n",
      "Brandon Camp 1\n",
      "Kevin Greutert 2\n",
      "Jean-Marc VallÃ©e 2\n",
      "Ethan Coen 4\n",
      "Joel Coen 6\n",
      "David Twohy 4\n",
      "Dominic Sena 4\n",
      "Rajkumar Hirani 1\n",
      "Grant Heslov 1\n",
      "James McTeigue 4\n",
      "Todd Graff 1\n",
      "Brad Silberling 2\n",
      "Jorge Blanco 1\n",
      "Javier Abad 1\n",
      "Marcos MartÃ­nez 1\n",
      "Harold Ramis 2\n",
      "Patrick Lussier 3\n",
      "Walt Becker 2\n",
      "Alejandro AmenÃ¡bar 2\n",
      "Troy Duffy 1\n",
      "Werner Herzog 2\n",
      "NimrÃ³d Antal 4\n",
      "Paul Weitz 5\n",
      "Lone Scherfig 2\n",
      "Jason Reitman 4\n",
      "David Bowers 4\n",
      "Tom Tykwer 3\n",
      "Justin Lin 5\n",
      "Michael Moore 3\n",
      "Rob Zombie 4\n",
      "Peter Chelsom 3\n",
      "John Schultz 1\n",
      "Olatunde Osunsanmi 1\n",
      "Brian Koppelman 2\n",
      "David Levien 2\n",
      "Tony Gilroy 3\n",
      "Jane Campion 1\n",
      "Greg Mottola 3\n",
      "Mike Judge 1\n",
      "Donald Petrie 4\n",
      "Marcus Nispel 4\n",
      "Daniel Barber 1\n",
      "Jonathan Mostow 3\n",
      "Andrzej Bartkowiak 5\n",
      "Thor Freudenthal 3\n",
      "Steve Shill 1\n",
      "Michael J. Bassett 2\n",
      "Jonas Elmer 1\n",
      "Richard Linklater 4\n",
      "Stewart Hendler 2\n",
      "Derrick Borte 1\n",
      "Vicky Jenson 3\n",
      "Marc Lawrence 3\n",
      "Toby Wilkins 1\n",
      "Bruce Beresford 2\n",
      "Chris Renaud 3\n",
      "Sylvester Stallone 3\n",
      "Chris Sanders 3\n",
      "Martin Scorsese 6\n",
      "Joseph Kosinski 2\n",
      "Nathan Greno 1\n",
      "Byron Howard 2\n",
      "Lee Unkrich 3\n",
      "Danny Boyle 6\n",
      "Michael Apted 2\n",
      "Florian Henckel von Donnersmarck 1\n",
      "Mike Newell 3\n",
      "Louis Leterrier 6\n",
      "Jon Turteltaub 5\n",
      "Edgar Wright 2\n",
      "Mike Mitchell 3\n",
      "Joe Carnahan 3\n",
      "Ethan Maniquis 1\n",
      "Dennis Dugan 7\n",
      "Albert Hughes 2\n",
      "Allen Hughes 3\n",
      "Ben Affleck 3\n",
      "David Slade 2\n",
      "Tom McGrath 4\n",
      "Edward Zwick 4\n",
      "Peter Weir 2\n",
      "Miguel Sapochnik 1\n",
      "James Mangold 5\n",
      "Ryan Murphy 1\n",
      "Andy Tennant 4\n",
      "Anand Tucker 1\n",
      "Paul Greengrass 5\n",
      "Alan Poul 1\n",
      "Josh Gordon 1\n",
      "Will Speck 1\n",
      "Floria Sigismondi 1\n",
      "Garry Marshall 4\n",
      "Troy Nixey 1\n",
      "Harald Zwart 3\n",
      "Jonathan Lynn 2\n",
      "Roman Polanski 3\n",
      "Paul Haggis 3\n",
      "Samuel Bayer 1\n",
      "David O. Russell 3\n",
      "Jimmy Hayward 3\n",
      "Jason Friedberg 5\n",
      "Aaron Seltzer 5\n",
      "Scott Stewart 2\n",
      "Michael Patrick King 2\n",
      "Susanna White 1\n",
      "John Luessenhop 2\n",
      "Steve Antin 1\n",
      "Nanette Burstein 1\n",
      "Mark Romanek 2\n",
      "Kevin Smith 4\n",
      "Greg Berlanti 1\n",
      "Neil Marshall 2\n",
      "John Curran 1\n",
      "Alexandre Aja 3\n",
      "Roger Michell 2\n",
      "Tony Goldwyn 1\n",
      "Michael Lembeck 3\n",
      "Colin Strause 1\n",
      "Greg Strause 1\n",
      "John Madden 3\n",
      "Jorma Taccone 1\n",
      "James L. Brooks 2\n",
      "Brian Levant 3\n",
      "Jim Field Smith 1\n",
      "William Monahan 1\n",
      "Wes Craven 5\n",
      "Robert Redford 3\n",
      "Neil LaBute 3\n",
      "Tom Dey 3\n",
      "Oliver Stone 5\n",
      "Dan Rush 1\n",
      "Anthony Bell 1\n",
      "Ben Gluck 1\n",
      "Eric Brevig 2\n",
      "Tom Vaughan 2\n",
      "Richard J. Lewis 1\n",
      "Martin Campbell 5\n",
      "Roger Kumble 2\n",
      "Kevin Munroe 2\n",
      "William Dear 1\n",
      "Sngmoo Lee 1\n",
      "John Landis 1\n",
      "Tyler Perry 3\n",
      "Vipul Amrutlal Shah 1\n",
      "David Lynch 1\n",
      "David Silverman 2\n",
      "Andrew Adamson 4\n",
      "Sharon Maguire 1\n",
      "Gary Trousdale 1\n",
      "Kirk Wise 1\n",
      "Simon West 5\n",
      "J.B. Rogers 1\n",
      "Baz Luhrmann 3\n",
      "Ted Demme 1\n",
      "Jean-Jacques Annaud 2\n",
      "Ben Stiller 3\n",
      "Joel Gallen 1\n",
      "Keenen Ivory Wayans 4\n",
      "John A. Davis 2\n",
      "Lawrence Guterman 1\n",
      "Chris Nahon 1\n",
      "Peter Howitt 2\n",
      "Hironobu Sakaguchi 1\n",
      "Motonori Sakakibara 1\n",
      "Michael Cristofer 1\n",
      "John Moore 5\n",
      "Victor Salva 2\n",
      "Rod Lurie 2\n",
      "Lee Tamahori 5\n",
      "Adam Shankman 8\n",
      "Jerry Zucker 1\n",
      "Robert Altman 1\n",
      "James Isaac 1\n",
      "Gore Verbinski 8\n",
      "John Dahl 2\n",
      "Stephen Herek 1\n",
      "Iain Softley 3\n",
      "Gary Fleder 4\n",
      "Simon Wincer 1\n",
      "Bill Paxton 2\n",
      "Luis Mandoki 2\n",
      "Scott Hicks 2\n",
      "Daniel Sackheim 1\n",
      "John Herzfeld 1\n",
      "Brian Robbins 6\n",
      "Ivan Reitman 2\n",
      "Frank Oz 2\n",
      "Dennie Gordon 1\n",
      "John Boorman 1\n",
      "Pat O'Connor 1\n",
      "Jesse Dylan 3\n",
      "Gregory Poirier 1\n",
      "Frank Darabont 2\n",
      "Demian Lichtenstein 1\n",
      "John Carpenter 1\n",
      "Penny Marshall 1\n",
      "Mark Waters 5\n",
      "Rob Cohen 6\n",
      "John Stockwell 3\n",
      "Brendan Malloy 1\n",
      "Emmett Malloy 1\n",
      "Les Mayfield 1\n",
      "Harold Becker 1\n",
      "Mike Tollin 2\n",
      "Tim Hill 3\n",
      "Rob Pritts 1\n",
      "Joe Johnston 3\n",
      "Peter Hyams 2\n",
      "Peter Bogdanovich 1\n",
      "Francine McDougall 1\n",
      "Ernest R. Dickerson 1\n",
      "DJ Pooh 1\n",
      "John Singleton 5\n",
      "Andrew Stanton 3\n",
      "Catherine Hardwicke 3\n",
      "Marc Forster 7\n",
      "John Stevenson 1\n",
      "Phyllida Lloyd 2\n",
      "Timur Bekmambetov 2\n",
      "Loveleen Tandan 1\n",
      "Peter Berg 6\n",
      "Kathryn Bigelow 3\n",
      "D.J. Caruso 5\n",
      "Mark Herman 1\n",
      "Scott Derrickson 2\n",
      "Gabriele Muccino 2\n",
      "David Frankel 4\n",
      "Jeff Wadlow 1\n",
      "Lexi Alexander 1\n",
      "Pete Travis 2\n",
      "Peter Segal 6\n",
      "David Wain 2\n",
      "Mathieu Kassovitz 2\n",
      "Martin McDonagh 2\n",
      "Jon Hurwitz 2\n",
      "Hayden Schlossberg 2\n",
      "Peter Sollett 1\n",
      "Seth Gordon 3\n",
      "Fred Wolf 1\n",
      "David Hackl 1\n",
      "Marco Schnabel 1\n",
      "Woody Allen 3\n",
      "Jon Avnet 2\n",
      "Brad Anderson 3\n",
      "Gregory Hoblit 3\n",
      "Bryan Bertino 1\n",
      "Gus Van Sant 3\n",
      "Howard McCain 1\n",
      "Chris Carter 1\n",
      "John Patrick Shanley 1\n",
      "Paul Weiland 1\n",
      "Marcel Langenegger 1\n",
      "David Moreau 1\n",
      "Xavier Palud 1\n",
      "Oxide Pang Chun 1\n",
      "Danny Pang 1\n",
      "GÃ¡bor CsupÃ³ 2\n",
      "Peter Cattaneo 1\n",
      "Robert Stevenhagen 1\n",
      "Sam Fell 3\n",
      "Craig Mazin 1\n",
      "Gina Prince-Bythewood 2\n",
      "Raja Gosnell 6\n",
      "Michael McCullers 1\n",
      "Julian Jarrold 2\n",
      "Rian Johnson 2\n",
      "Kirk De Micco 2\n",
      "Howard Deutch 2\n",
      "RyÃ»hei Kitamura 1\n",
      "Simon Hunter 1\n",
      "Joshua Michael Stern 2\n",
      "Jennifer Flackett 1\n",
      "Mark Levin 1\n",
      "Anthony Leondis 1\n",
      "Robert B. Weide 1\n",
      "Malcolm D. Lee 4\n",
      "Nicolas Winding Refn 1\n",
      "Andrew Niccol 3\n",
      "Jennifer Yuh 1\n",
      "John Lasseter 2\n",
      "Brad Lewis 1\n",
      "Bill Condon 4\n",
      "Terrence Malick 1\n",
      "Michel Hazanavicius 1\n",
      "Brad Furman 2\n",
      "Gary McKendry 1\n",
      "Mikael HÃ¥fstrÃ¶m 4\n",
      "Stephen Anderson 1\n",
      "George Nolfi 1\n",
      "Tom Hanks 1\n",
      "Mark Mylod 1\n",
      "Chris Gorak 1\n",
      "Tate Taylor 1\n",
      "Christian E. Christiansen 1\n",
      "Chris Miller 2\n",
      "Michel Gondry 2\n",
      "Oliver Parker 1\n",
      "Todd Strauss-Schulson 1\n",
      "Matthijs van Heijningen Jr. 1\n",
      "Gonzalo LÃ³pez-Gallego 1\n",
      "Simon Wells 2\n",
      "Joe Cornish 1\n",
      "Stephen Daldry 3\n",
      "Kelly Asbury 3\n",
      "Alexander Payne 4\n",
      "Bruce Robinson 1\n",
      "John Michael McDonagh 1\n",
      "Jesse Peretz 1\n",
      "Craig Brewer 3\n",
      "Joel Schumacher 5\n",
      "Henry Joost 2\n",
      "Ariel Schulman 2\n",
      "Michael Dowse 2\n",
      "Jason Winer 1\n",
      "Alister Grierson 1\n",
      "Douglas McGrath 1\n",
      "David Cronenberg 4\n",
      "Sean McNamara 1\n",
      "Mike Disa 1\n",
      "Joe Nussbaum 2\n",
      "William Friedkin 3\n",
      "John Whitesell 2\n",
      "Benny Chan 1\n",
      "Salim Akil 2\n",
      "Thomas Bezucha 1\n",
      "Paul Johansson 1\n",
      "Paolo Sorrentino 1\n",
      "Rodrigo GarcÃ­a 1\n",
      "Mark Duplass 1\n",
      "Jay Duplass 1\n",
      "Chris Wedge 3\n",
      "George Lucas 2\n",
      "Barry Sonnenfeld 4\n",
      "Corey Yuen Kwai 1\n",
      "Wayne Wang 3\n",
      "Curtis Hanson 1\n",
      "Steven Brill 3\n",
      "Joel Zwick 1\n",
      "Andrew Davis 2\n",
      "Stuart Baird 1\n",
      "Kurt Wimmer 1\n",
      "Steve Beck 1\n",
      "Lorna Cook 1\n",
      "Jim Gillespie 1\n",
      "Chuck Russell 1\n",
      "Jeff Tremaine 3\n",
      "Julie Taymor 1\n",
      "Barbet Schroeder 1\n",
      "Spike Jonze 2\n",
      "Ron Shelton 1\n",
      "Walter Hill 3\n",
      "John Woo 3\n",
      "Adrian Lyne 1\n",
      "Michael Rymer 1\n",
      "Marcus Raboy 1\n",
      "Robin Budd 1\n",
      "Donovan Cook 1\n",
      "Dewey Nicks 1\n",
      "Brian De Palma 2\n",
      "Michael Caton-Jones 2\n",
      "Rob Bowman 2\n",
      "Carl Franklin 2\n",
      "Shekhar Kapur 2\n",
      "Mark Pellington 1\n",
      "Jonathan Frakes 1\n",
      "Rick Rosenthal 1\n",
      "Denzel Washington 2\n",
      "Mort Nathan 1\n",
      "Tamra Davis 1\n",
      "Ron Underwood 1\n",
      "Stephen Gaghan 2\n",
      "Reginald Hudlin 2\n",
      "Tom Shadyac 3\n",
      "Charles Stone III 2\n",
      "Kevin Bray 1\n",
      "William Malone 1\n",
      "Paul Schrader 1\n",
      "MÃ¥ns MÃ¥rlind 1\n",
      "BjÃ¶rn Stein 1\n",
      "Mark Andrews 1\n",
      "Steve Purcell 1\n",
      "Brenda Chapman 1\n",
      "Rupert Sanders 1\n",
      "Ang Lee 3\n",
      "Mike Thurmeier 1\n",
      "Juan Antonio Bayona 1\n",
      "Rich Moore 1\n",
      "Gary Ross 2\n",
      "Len Wiseman 4\n",
      "Stephen Chbosky 1\n",
      "Drew Goddard 1\n",
      "Peter Ramsey 1\n",
      "Michael Sucsy 1\n",
      "Juan Diego Solanas 1\n",
      "Scott Speer 1\n",
      "Mike McCoy 1\n",
      "Kirk Jones 2\n",
      "Larry Charles 2\n",
      "Nima Nourizadeh 1\n",
      "Peter Lord 2\n",
      "Jeff Newitt 1\n",
      "Stephen St. Leger 1\n",
      "James Mather 1\n",
      "James Watkins 1\n",
      "Asger Leth 1\n",
      "Henry Alex Rubin 1\n",
      "Alex Kurtzman 1\n",
      "John Gulager 1\n",
      "Ole Bornedal 1\n",
      "Andrew Dominik 2\n",
      "Mabrouk El Mechri 1\n",
      "Nicholas Jarecki 1\n",
      "Dan Bradley 1\n",
      "Julie Anne Robinson 1\n",
      "Dustin Hoffman 1\n",
      "Chris Butler 1\n",
      "Dean Wright 1\n",
      "Anthony Hemingway 1\n",
      "Josh Schwartz 1\n",
      "Brian Klugman 1\n",
      "Lee Sternthal 1\n",
      "Walter Salles 2\n",
      "David Barrett 1\n",
      "Todd Lincoln  1\n",
      "Dan Cutforth 1\n",
      "Jane Lipsitz 1\n",
      "Mark Steven Johnson 2\n",
      "Stephen Norrington 1\n",
      "Steve Trenbirth 1\n",
      "Terry Zwigoff 1\n",
      "David Zucker 2\n",
      "Bille Woodruff 2\n",
      "Jan de Bont 1\n",
      "Rob Schmidt 1\n",
      "Jon Amiel 1\n",
      "Clark Johnson 2\n",
      "Charles Herman-Wurmfeld 1\n",
      "Richard Donner 2\n",
      "Anthony Minghella 1\n",
      "Ronny Yu 1\n",
      "Joe Dante 1\n",
      "John McTiernan 1\n",
      "Kevin Costner 1\n",
      "Jim Fall 1\n",
      "Lawrence Kasdan 1\n",
      "Patty Jenkins 1\n",
      "Martin Brest 1\n",
      "Ronald F. Maxwell 1\n",
      "Troy Miller 1\n",
      "Alan Parker 1\n",
      "Uwe Boll 3\n",
      "Chris Koch 1\n",
      "David Mackenzie 1\n",
      "FranÃ§ois Ozon 1\n",
      "Christopher Guest 1\n",
      "Nigel Cole 2\n",
      "James Cox 1\n",
      "Rob Reiner 3\n",
      "Robert Iscove 2\n",
      "Christine Jeffs 1\n",
      "Chris Buck 2\n",
      "Jennifer Lee 1\n",
      "Alfonso CuarÃ³n 3\n",
      "Shane Black 1\n",
      "Steve McQueen 1\n",
      "Dan Scanlon 1\n",
      "Tommy Wirkola 1\n",
      "Carl Rinsch 1\n",
      "Klay Hall 1\n",
      "Harmony Korine 1\n",
      "Fede Alvarez 1\n",
      "Derek Cianfrance 1\n",
      "Kimberly Peirce 1\n",
      "John Carney 1\n",
      "Justin Zackham 1\n",
      "Taylor Hackford 2\n",
      "Mike Flanagan 1\n",
      "David Soren 1\n",
      "Steven Knight 1\n",
      "Spike Lee 2\n",
      "Andy Muschietti 1\n",
      "Rusty Cundieff 1\n",
      "James Duffy 1\n",
      "Griffin Dunne 1\n",
      "Patrik Forsberg 1\n",
      "Will Graham 1\n",
      "Jonathan van Tulleken 1\n",
      "Scott Moore 1\n",
      "Jon Lucas 1\n",
      "Callan Brunker 1\n",
      "Amma Asante 1\n",
      "Sofia Coppola 2\n",
      "Dito Montiel 1\n",
      "Cody Cameron 1\n",
      "Kris Pearn 1\n",
      "Giuseppe Tornatore 1\n",
      "Don Scardino 1\n",
      "Jeff Nichols 1\n",
      "Jonathan Teplitzky 1\n",
      "Neil Nightingale 1\n",
      "Barry Cook 1\n",
      "Scott Walker 1\n",
      "Guillaume Canet 1\n",
      "Ric Roman Waugh 1\n",
      "Keanu Reeves 1\n",
      "David E. Talbert 1\n",
      "Christopher B. Landon 1\n",
      "Benson Lee 1\n",
      "Anthony Silverston 1\n",
      "Kasi Lemmons 1\n",
      "Dan St. Pierre 1\n",
      "Zal Batmanglij 1\n",
      "Ed Gass-Donnelly 1\n",
      "Justin Chadwick 1\n",
      "Stephen Frears 3\n",
      "Oliver Hirschbiegel 2\n",
      "Courtney Solomon 2\n",
      "Fyodor Bondarchuk 1\n",
      "Garth Jennings 1\n",
      "Mark Dindal 2\n",
      "Mike Johnson 1\n",
      "Steve Box 1\n",
      "Nick Park 2\n",
      "John Maybury 1\n",
      "Angela Robinson 1\n",
      "Cory Edwards 1\n",
      "Todd Edwards 1\n",
      "Tony Leech 1\n",
      "John Polson 1\n",
      "Sydney Pollack 1\n",
      "Terry Gilliam 1\n",
      "Florent-Emilio Siri 1\n",
      "Jay Chandrasekhar 2\n",
      "Frederik Du Chau 1\n",
      "Andrew Douglas 1\n",
      "Dean Parisot 1\n",
      "Kevin Rodney Sullivan 2\n",
      "Jean-FranÃ§ois Richet 1\n",
      "Jim Jarmusch 1\n",
      "George A. Romero 1\n",
      "Rupert Wainwright 1\n",
      "Clare Kilner 1\n",
      "Richard Shepard 1\n",
      "Gary Chapman 1\n",
      "Fernando Meirelles 1\n",
      "Tommy Lee Jones 1\n",
      "Danny Cannon 1\n",
      "Geoffrey Sax 2\n",
      "Liev Schreiber 1\n",
      "Stephen Kay 1\n",
      "Bruce Hunt 1\n",
      "Niki Caro 1\n",
      "Joe Ranft 1\n",
      "Karey Kirkpatrick 1\n",
      "Frank Marshall 1\n",
      "James Wong 2\n",
      "Christophe Gans 1\n",
      "Steve 'Spaz' Williams 1\n",
      "Stefen Fangmeier 1\n"
     ]
    },
    {
     "name": "stdout",
     "output_type": "stream",
     "text": [
      "Alejandro Agresti 1\n",
      "Mel Gibson 2\n",
      "Robert De Niro 1\n",
      "Kevin Reynolds 1\n",
      "Matthew O'Callaghan 1\n",
      "Steven Zaillian 1\n",
      "Joe Roth 1\n",
      "Darren Lynn Bousman 2\n",
      "Jared Hess 1\n",
      "Wolfgang Petersen 3\n",
      "Steven Shainberg 1\n",
      "Jonathan Dayton 1\n",
      "Valerie Faris 1\n",
      "Greg Coolidge 1\n",
      "Nick Hurran 2\n",
      "Roger Allers 1\n",
      "Jill Culton 1\n",
      "Steve Oedekerk 1\n",
      "Chris Noonan 1\n",
      "Jim Sonzero 1\n",
      "John Bonito 1\n",
      "Liz Friedlander 1\n",
      "Peter Hewitt 2\n",
      "Elizabeth Allen Rosenbaum 1\n",
      "Richard Eyre 1\n",
      "Tony Bill 1\n",
      "Wayne Kramer 1\n",
      "Susannah Grant 1\n",
      "Takashi Shimizu 2\n",
      "Richard Loncraine 2\n",
      "Liam Lynch 1\n",
      "Sanjay Gadhvi 1\n",
      "Glen Morgan 1\n",
      "Phil Joanou 1\n",
      "Mira Nair 2\n",
      "Rachid Bouchareb 1\n",
      "William Brent Bell 1\n",
      "Asif Kapadia 1\n",
      "Doug Atchison 1\n",
      "Beeban Kidron 1\n",
      "Eric Bress 1\n",
      "J. Mackye Gruber 1\n",
      "Alexander Witt 1\n",
      "Bibo Bergeron 2\n",
      "Kerry Conran 1\n",
      "Stephen Hillenburg 1\n",
      "Tommy O'Haver 1\n",
      "Mark Rosman 1\n",
      "Rawson Marshall Thurber 1\n",
      "Danny Leiner 2\n",
      "Jeff Schaffer 1\n",
      "Mike Nichols 2\n",
      "Jonathan Hensleigh 1\n",
      "Pitof 1\n",
      "Don Mancini 1\n",
      "Charles Shyer 1\n",
      "Will Finn 1\n",
      "John Sanford 1\n",
      "Terry George 1\n",
      "Philip Kaufman 2\n",
      "Trey Parker 1\n",
      "Sara Sugarman 1\n",
      "Guy Ferland 1\n",
      "Joseph Ruben 1\n",
      "Nick Hamm 1\n",
      "Paul Abascal 1\n",
      "Joseph Kahn 1\n",
      "Gavin O'Connor 1\n",
      "E. Elias Merhige 1\n",
      "George Armitage 1\n",
      "David Mamet 1\n",
      "Kevin Allen 1\n",
      "Christopher Erskin 1\n",
      "Jay Russell 2\n",
      "Jan Pinkava 1\n",
      "Sean Penn 1\n",
      "Raman Hui 1\n",
      "Steve Hickner 1\n",
      "Stephen J. Anderson 1\n",
      "Richard LaGravenese 2\n",
      "Kevin Lima 2\n",
      "Juan Carlos Fresnadillo 1\n",
      "Steve Bendelack 1\n",
      "Bruce A. Evans 1\n",
      "Kirsten Sheridan 1\n",
      "Joby Harold 1\n",
      "Philip G. Atwell 1\n",
      "Mennan Yapo 1\n",
      "Michael Davis 1\n",
      "Ash Brannon 1\n",
      "Xavier Gens 1\n",
      "Eli Roth 2\n",
      "Jason Eisener 1\n",
      "David Schwimmer 1\n",
      "Dave Meyers 1\n",
      "Chris Sivertson 1\n",
      "Michael Haneke 1\n",
      "Sidney Lumet 1\n",
      "Fred Savage 1\n",
      "Russell Mulcahy 1\n",
      "Michael Winterbottom 1\n",
      "Stephen Hopkins 1\n",
      "James Foley 1\n",
      "Mark Helfrich 1\n",
      "Jon Kasdan 1\n",
      "Shari Springer Berman 1\n",
      "Robert Pulcini 1\n",
      "James Gray 1\n",
      "Peter Hedges 1\n",
      "Roland JoffÃ© 1\n",
      "Amy Heckerling 1\n",
      "Susanne Bier 1\n",
      "Alastair Fothergill 1\n",
      "Mark Linfield 1\n",
      "Doug Lefler 1\n",
      "Wong Kar-wai 1\n",
      "Sylvain White 1\n",
      "David Leland 1\n",
      "Chris Rock 1\n",
      "Peter Webber 1\n",
      "Feng Xiaogang 1\n",
      "Ben Garant 1\n",
      "Ralph Zondag 1\n",
      "Eric Leighton 1\n",
      "David McNally 1\n",
      "Ben Younger 1\n",
      "Don Michael Paul 1\n",
      "Mimi Leder 1\n",
      "Paul Verhoeven 1\n",
      "Mary Harron 1\n",
      "Lars von Trier 1\n",
      "Roger Spottiswoode 1\n",
      "Antony Hoffman 1\n",
      "Stephen T. Kay 1\n",
      "Don Bluth 1\n",
      "Gary Goldman 1\n",
      "John Frankenheimer 1\n",
      "Edward Norton 1\n",
      "Jack Sholder 1\n",
      "Christian Duguay 1\n",
      "David Raynr 1\n",
      "Douglas Aarniokoski 1\n",
      "Davis Guggenheim 1\n",
      "Bonnie Hunt 1\n",
      "Uli Edel 1\n",
      "Des McAnuff 1\n",
      "Diane Keaton 1\n",
      "Mary Lambert 1\n"
     ]
    }
   ],
   "source": [
    "director_counter = Counter()\n",
    "for x in df.director.str.split('|'):\n",
    "    director_counter += Counter(x)\n",
    "director_counter\n",
    "df1 = pd.DataFrame()\n",
    "for k, v in director_counter.items(): \n",
    "    print(k, v)    "
   ]
  },
  {
   "cell_type": "code",
   "execution_count": 43,
   "metadata": {},
   "outputs": [],
   "source": [
    "answer_ls.append(3)"
   ]
  },
  {
   "cell_type": "markdown",
   "metadata": {},
   "source": [
    "# 14. Кто из режиссеров снял больше всего Прибыльных фильмов?\n",
    "Варианты ответов:\n",
    "1. Steven Soderbergh\n",
    "2. Clint Eastwood\n",
    "3. Steven Spielberg\n",
    "4. Ridley Scott\n",
    "5. Christopher Nolan"
   ]
  },
  {
   "cell_type": "code",
   "execution_count": 21,
   "metadata": {},
   "outputs": [
    {
     "data": {
      "text/plain": [
       "[('Ridley Scott', 12)]"
      ]
     },
     "execution_count": 21,
     "metadata": {},
     "output_type": "execute_result"
    }
   ],
   "source": [
    "director_counter2 = Counter()\n",
    "for x in df[df.profit > 0].director.str.split('|'):\n",
    "    director_counter2 += Counter(x)\n",
    "director_counter2.most_common(1)"
   ]
  },
  {
   "cell_type": "code",
   "execution_count": 45,
   "metadata": {},
   "outputs": [],
   "source": [
    "answer_ls.append(4)"
   ]
  },
  {
   "cell_type": "markdown",
   "metadata": {},
   "source": [
    "# 15. Кто из режиссеров принес больше всего прибыли?\n",
    "Варианты ответов:\n",
    "1. Steven Spielberg\n",
    "2. Christopher Nolan\n",
    "3. David Yates\n",
    "4. James Cameron\n",
    "5. Peter Jackson\n"
   ]
  },
  {
   "cell_type": "code",
   "execution_count": 46,
   "metadata": {},
   "outputs": [
    {
     "data": {
      "text/plain": [
       "director\n",
       "Peter Jackson            5202593685\n",
       "David Yates              3379295625\n",
       "Christopher Nolan        3162548502\n",
       "J.J. Abrams              2839169916\n",
       "Michael Bay              2760938960\n",
       "                            ...    \n",
       "David Bowers|Sam Fell     -84540684\n",
       "Peter Hyams               -86956545\n",
       "Ron Underwood             -92896027\n",
       "James L. Brooks           -96289726\n",
       "Sngmoo Lee               -413912431\n",
       "Name: profit, Length: 958, dtype: int64"
      ]
     },
     "execution_count": 46,
     "metadata": {},
     "output_type": "execute_result"
    }
   ],
   "source": [
    "df.groupby(by = ['director'])['profit'].sum().sort_values(ascending=False)"
   ]
  },
  {
   "cell_type": "code",
   "execution_count": 47,
   "metadata": {},
   "outputs": [],
   "source": [
    "answer_ls.append(5)"
   ]
  },
  {
   "cell_type": "markdown",
   "metadata": {},
   "source": [
    "# 16. Какой актер принес больше всего прибыли?\n",
    "Варианты ответов:\n",
    "1. Emma Watson\n",
    "2. Johnny Depp\n",
    "3. Michelle Rodriguez\n",
    "4. Orlando Bloom\n",
    "5. Rupert Grint"
   ]
  },
  {
   "cell_type": "code",
   "execution_count": 48,
   "metadata": {},
   "outputs": [
    {
     "data": {
      "text/plain": [
       "cast\n",
       "Emma Watson           6666245597\n",
       "Daniel Radcliffe      6514990281\n",
       "Rupert Grint          6408638290\n",
       "Ian McKellen          6087375777\n",
       "Robert Downey Jr.     5316030161\n",
       "                         ...    \n",
       "Elisabeth Harnois     -111007242\n",
       "Emilio EchevarrÃ­a    -119180039\n",
       "Kate Bosworth         -369455668\n",
       "Ti Lung               -413912431\n",
       "Jang Dong-gun         -413912431\n",
       "Name: profit_cast, Length: 3408, dtype: int64"
      ]
     },
     "execution_count": 48,
     "metadata": {},
     "output_type": "execute_result"
    }
   ],
   "source": [
    "df_cast = pd.DataFrame(df.cast.str.split('|').tolist()).stack().reset_index()\n",
    "df_cast.columns = ['film_index','cast_index','cast']\n",
    "df_cast['profit_cast'] = df_cast.film_index.apply(lambda x : df.iloc[x]['profit'])\n",
    "df_cast['year'] = df_cast.film_index.apply(lambda x : df.iloc[x]['release_year'])\n",
    "df_cast.groupby(by = ['cast'])['profit_cast'].sum().sort_values(ascending=False)"
   ]
  },
  {
   "cell_type": "code",
   "execution_count": 49,
   "metadata": {},
   "outputs": [],
   "source": [
    "answer_ls.append(1)"
   ]
  },
  {
   "cell_type": "markdown",
   "metadata": {},
   "source": [
    "# 17. Какой актер принес меньше всего прибыли в 2012 году?\n",
    "Варианты ответов:\n",
    "1. Nicolas Cage\n",
    "2. Danny Huston\n",
    "3. Kirsten Dunst\n",
    "4. Jim Sturgess\n",
    "5. Sami Gayle"
   ]
  },
  {
   "cell_type": "code",
   "execution_count": 50,
   "metadata": {},
   "outputs": [
    {
     "data": {
      "text/plain": [
       "cast\n",
       "Kirsten Dunst         -68109207\n",
       "Heidi Hawkins         -51893525\n",
       "James Kidnie          -51893525\n",
       "Timothy Spall         -51893525\n",
       "Malin Ã…kerman        -43733509\n",
       "                        ...    \n",
       "Robert Downey Jr.    1299557910\n",
       "Mark Ruffalo         1299557910\n",
       "Chris Evans          1299557910\n",
       "Denis Leary          1319460639\n",
       "Chris Hemsworth      1542450773\n",
       "Name: profit_cast, Length: 466, dtype: int64"
      ]
     },
     "execution_count": 50,
     "metadata": {},
     "output_type": "execute_result"
    }
   ],
   "source": [
    "df_cast[(df_cast.year == 2012)].groupby(by = ['cast'])['profit_cast'].sum().sort_values()"
   ]
  },
  {
   "cell_type": "code",
   "execution_count": 51,
   "metadata": {},
   "outputs": [],
   "source": [
    "answer_ls.append(3)"
   ]
  },
  {
   "cell_type": "markdown",
   "metadata": {},
   "source": [
    "# 18. Какой актер снялся в большем количестве высокобюджетных фильмов? (в фильмах где бюджет выше среднего по данной выборке)\n",
    "Варианты ответов:\n",
    "1. Tom Cruise\n",
    "2. Mark Wahlberg \n",
    "3. Matt Damon\n",
    "4. Angelina Jolie\n",
    "5. Adam Sandler"
   ]
  },
  {
   "cell_type": "code",
   "execution_count": 52,
   "metadata": {},
   "outputs": [
    {
     "data": {
      "text/plain": [
       "Matt Damon            18\n",
       "Adam Sandler          17\n",
       "Angelina Jolie        16\n",
       "Samuel L. Jackson     15\n",
       "Tom Cruise            15\n",
       "                      ..\n",
       "Brittany Snow          1\n",
       "Christine Baranski     1\n",
       "Tony Kgoroge           1\n",
       "Sarah Gadon            1\n",
       "Jena Malone            1\n",
       "Name: cast, Length: 1508, dtype: int64"
      ]
     },
     "execution_count": 52,
     "metadata": {},
     "output_type": "execute_result"
    }
   ],
   "source": [
    "df_cast['budget'] = df_cast.film_index.apply(lambda x : df.iloc[x]['budget'])\n",
    "df_cast[df_cast.budget > df_cast.budget.mean()].cast.value_counts()"
   ]
  },
  {
   "cell_type": "code",
   "execution_count": 53,
   "metadata": {},
   "outputs": [],
   "source": [
    "answer_ls.append(3)"
   ]
  },
  {
   "cell_type": "markdown",
   "metadata": {},
   "source": [
    "# 19. В фильмах какого жанра больше всего снимался Nicolas Cage?  \n",
    "Варианты ответа:\n",
    "1. Drama\n",
    "2. Action\n",
    "3. Thriller\n",
    "4. Adventure\n",
    "5. Crime"
   ]
  },
  {
   "cell_type": "code",
   "execution_count": 54,
   "metadata": {},
   "outputs": [
    {
     "data": {
      "text/plain": [
       "Action             17\n",
       "Thriller           15\n",
       "Drama              12\n",
       "Crime              10\n",
       "Fantasy             8\n",
       "Adventure           7\n",
       "Comedy              6\n",
       "Science Fiction     4\n",
       "Mystery             3\n",
       "Family              3\n",
       "Animation           3\n",
       "History             2\n",
       "Horror              1\n",
       "Romance             1\n",
       "War                 1\n",
       "Name: genres, dtype: int64"
      ]
     },
     "execution_count": 54,
     "metadata": {},
     "output_type": "execute_result"
    }
   ],
   "source": [
    "df_genres = pd.DataFrame(df.genres.str.split('|').tolist()).stack().reset_index()\n",
    "df_genres.columns = ['film_index','genres_index','genres']\n",
    "df_genres['cast'] = df_genres.film_index.apply(lambda x : df.iloc[x]['cast'])\n",
    "df_genres[df_genres.cast.str.contains(\"Nicolas Cage\", na = False)].genres.value_counts()"
   ]
  },
  {
   "cell_type": "code",
   "execution_count": 55,
   "metadata": {},
   "outputs": [],
   "source": [
    "answer_ls.append(2)"
   ]
  },
  {
   "cell_type": "markdown",
   "metadata": {},
   "source": [
    "# 20. Какая студия сняла больше всего фильмов?\n",
    "Варианты ответа:\n",
    "1. Universal Pictures (Universal)\n",
    "2. Paramount Pictures\n",
    "3. Columbia Pictures\n",
    "4. Warner Bros\n",
    "5. Twentieth Century Fox Film Corporation"
   ]
  },
  {
   "cell_type": "code",
   "execution_count": 7,
   "metadata": {},
   "outputs": [
    {
     "data": {
      "text/plain": [
       "Universal Pictures                        173\n",
       "Warner Bros.                              168\n",
       "Paramount Pictures                        122\n",
       "Columbia Pictures                         117\n",
       "Twentieth Century Fox Film Corporation    109\n",
       "                                         ... \n",
       "Red Hour Productions                        1\n",
       "See-Saw Films                               1\n",
       "Halcyon Pictures                            1\n",
       "Parabolic Pictures                          1\n",
       "Danjaq                                      1\n",
       "Name: company, Length: 1772, dtype: int64"
      ]
     },
     "execution_count": 7,
     "metadata": {},
     "output_type": "execute_result"
    }
   ],
   "source": [
    "df_company = pd.DataFrame(df.production_companies.str.split('|').tolist()).stack().reset_index()\n",
    "df_company.columns = ['film_index','company_index','company']\n",
    "df_company.company.value_counts()"
   ]
  },
  {
   "cell_type": "code",
   "execution_count": 57,
   "metadata": {},
   "outputs": [],
   "source": [
    "answer_ls.append(1)"
   ]
  },
  {
   "cell_type": "markdown",
   "metadata": {},
   "source": [
    "# 21. Какая студия сняла больше всего фильмов в 2015 году?\n",
    "Варианты ответа:\n",
    "1. Universal Pictures\n",
    "2. Paramount Pictures\n",
    "3. Columbia Pictures\n",
    "4. Warner Bros\n",
    "5. Twentieth Century Fox Film Corporation"
   ]
  },
  {
   "cell_type": "code",
   "execution_count": 58,
   "metadata": {},
   "outputs": [
    {
     "data": {
      "text/plain": [
       "Warner Bros.                              12\n",
       "Universal Pictures                        10\n",
       "Twentieth Century Fox Film Corporation     8\n",
       "Columbia Pictures                          7\n",
       "Paramount Pictures                         7\n",
       "                                          ..\n",
       "Taxshelter. be                             1\n",
       "Dune Entertainment                         1\n",
       "Goldmann Pictures                          1\n",
       "Closest to the Hole Productions            1\n",
       "PeaPie Films                               1\n",
       "Name: company, Length: 246, dtype: int64"
      ]
     },
     "execution_count": 58,
     "metadata": {},
     "output_type": "execute_result"
    }
   ],
   "source": [
    "df_company['year'] = df_company.film_index.apply(lambda x : df.iloc[x]['release_year'])\n",
    "df_company[df_company.year == 2015].company.value_counts()"
   ]
  },
  {
   "cell_type": "code",
   "execution_count": 59,
   "metadata": {},
   "outputs": [],
   "source": [
    "answer_ls.append(4)"
   ]
  },
  {
   "cell_type": "markdown",
   "metadata": {},
   "source": [
    "# 22. Какая студия заработала больше всего денег в жанре комедий за все время?\n",
    "Варианты ответа:\n",
    "1. Warner Bros\n",
    "2. Universal Pictures (Universal)\n",
    "3. Columbia Pictures\n",
    "4. Paramount Pictures\n",
    "5. Walt Disney"
   ]
  },
  {
   "cell_type": "code",
   "execution_count": 60,
   "metadata": {},
   "outputs": [
    {
     "data": {
      "text/plain": [
       "company\n",
       "Universal Pictures                        8961545581\n",
       "Walt Disney Pictures                      7669710326\n",
       "Twentieth Century Fox Film Corporation    5686960294\n",
       "Columbia Pictures                         5646343696\n",
       "DreamWorks Animation                      4789049764\n",
       "                                             ...    \n",
       "Warner Bros. Pictures                      -54738687\n",
       "Shangri-La Entertainment                   -55170786\n",
       "Dark Horse Entertainment                   -68351500\n",
       "Road Rebel                                 -71331093\n",
       "Mel's Cite du Cinema                       -92896027\n",
       "Name: profit, Length: 702, dtype: int64"
      ]
     },
     "execution_count": 60,
     "metadata": {},
     "output_type": "execute_result"
    }
   ],
   "source": [
    "df_company['profit'] = df_company.film_index.apply(lambda x : df.iloc[x]['profit'])\n",
    "df_company['genres'] = df_company.film_index.apply(lambda x : df.iloc[x]['genres'])\n",
    "df_company[df_company.genres.str.contains(\"Comedy\", na = False)].groupby(by = ['company'])['profit'].sum().sort_values(ascending=False)"
   ]
  },
  {
   "cell_type": "code",
   "execution_count": 61,
   "metadata": {},
   "outputs": [],
   "source": [
    "answer_ls.append(2)"
   ]
  },
  {
   "cell_type": "markdown",
   "metadata": {},
   "source": [
    "# 23. Какая студия заработала больше всего денег в 2012 году?\n",
    "Варианты ответа:\n",
    "1. Universal Pictures (Universal)\n",
    "2. Warner Bros\n",
    "3. Columbia Pictures\n",
    "4. Paramount Pictures\n",
    "5. Lucasfilm"
   ]
  },
  {
   "cell_type": "code",
   "execution_count": 62,
   "metadata": {},
   "outputs": [
    {
     "data": {
      "text/plain": [
       "company\n",
       "Columbia Pictures     2501406608\n",
       "Universal Pictures    1981011579\n",
       "Marvel Studios        1299557910\n",
       "Warner Bros.          1258020056\n",
       "Relativity Media      1032593938\n",
       "                         ...    \n",
       "Jouror Productions     -51893525\n",
       "Onyx Films             -51893525\n",
       "Transfilm              -51893525\n",
       "Studio 37              -51893525\n",
       "France 2 CinÃ©ma       -82545651\n",
       "Name: profit, Length: 236, dtype: int64"
      ]
     },
     "execution_count": 62,
     "metadata": {},
     "output_type": "execute_result"
    }
   ],
   "source": [
    "df_company[df_company.year == 2012].groupby(by = ['company'])['profit'].sum().sort_values(ascending=False)"
   ]
  },
  {
   "cell_type": "code",
   "execution_count": 63,
   "metadata": {},
   "outputs": [],
   "source": [
    "answer_ls.append(3)"
   ]
  },
  {
   "cell_type": "markdown",
   "metadata": {},
   "source": [
    "# 24. Самый убыточный фильм от Paramount Pictures\n",
    "Варианты ответа:\n",
    "\n",
    "1. K-19: The Widowmaker tt0267626\n",
    "2. Next tt0435705\n",
    "3. Twisted tt0315297\n",
    "4. The Love Guru tt0811138\n",
    "5. The Fighter tt0964517"
   ]
  },
  {
   "cell_type": "code",
   "execution_count": 64,
   "metadata": {},
   "outputs": [
    {
     "data": {
      "text/plain": [
       "926    K-19: The Widowmaker\n",
       "Name: original_title, dtype: object"
      ]
     },
     "execution_count": 64,
     "metadata": {},
     "output_type": "execute_result"
    }
   ],
   "source": [
    "df[df.profit == df[df.production_companies.str.contains(\"Paramount Pictures\", na = False)].profit.min()].original_title"
   ]
  },
  {
   "cell_type": "code",
   "execution_count": 65,
   "metadata": {},
   "outputs": [],
   "source": [
    "answer_ls.append(1)"
   ]
  },
  {
   "cell_type": "markdown",
   "metadata": {},
   "source": [
    "# 25. Какой Самый прибыльный год (заработали больше всего)?\n",
    "Варианты ответа:\n",
    "1. 2014\n",
    "2. 2008\n",
    "3. 2012\n",
    "4. 2002\n",
    "5. 2015"
   ]
  },
  {
   "cell_type": "code",
   "execution_count": 66,
   "metadata": {},
   "outputs": [
    {
     "data": {
      "text/plain": [
       "release_year\n",
       "2015    18668572378\n",
       "2014    16397812953\n",
       "2012    16077001687\n",
       "2013    15243179791\n",
       "2011    14730241341\n",
       "2009    13423744372\n",
       "2010    13117292530\n",
       "2008    11663881990\n",
       "2007    11565911801\n",
       "2004     9634180720\n",
       "2003     9228823312\n",
       "2002     9002361487\n",
       "2005     8981925558\n",
       "2006     8691077320\n",
       "2001     7950614865\n",
       "2000     6101399805\n",
       "Name: profit, dtype: int64"
      ]
     },
     "execution_count": 66,
     "metadata": {},
     "output_type": "execute_result"
    }
   ],
   "source": [
    "df.groupby(by = ['release_year'])['profit'].sum().sort_values(ascending=False)"
   ]
  },
  {
   "cell_type": "code",
   "execution_count": 67,
   "metadata": {},
   "outputs": [],
   "source": [
    "answer_ls.append(5)"
   ]
  },
  {
   "cell_type": "markdown",
   "metadata": {},
   "source": [
    "# 26. Какой Самый прибыльный год для студии Warner Bros?\n",
    "Варианты ответа:\n",
    "1. 2014\n",
    "2. 2008\n",
    "3. 2012\n",
    "4. 2010\n",
    "5. 2015"
   ]
  },
  {
   "cell_type": "code",
   "execution_count": 68,
   "metadata": {},
   "outputs": [
    {
     "data": {
      "text/plain": [
       "release_year\n",
       "2014    2295464519\n",
       "2007    2201675217\n",
       "2008    2134595031\n",
       "2010    1974712985\n",
       "2011    1871393682\n",
       "2003    1855493377\n",
       "2009    1822454136\n",
       "2013    1636453400\n",
       "2004    1631933725\n",
       "2005    1551980298\n",
       "2001    1343545668\n",
       "2012    1258020056\n",
       "2002    1022709901\n",
       "2015     870368348\n",
       "2006     620170743\n",
       "2000     452631386\n",
       "Name: profit, dtype: int64"
      ]
     },
     "execution_count": 68,
     "metadata": {},
     "output_type": "execute_result"
    }
   ],
   "source": [
    "df[df.production_companies.str.contains(\"Warner Bros\", na = False)].groupby(by = ['release_year'])['profit'].sum().sort_values(ascending=False)"
   ]
  },
  {
   "cell_type": "code",
   "execution_count": 69,
   "metadata": {},
   "outputs": [],
   "source": [
    "answer_ls.append(1)"
   ]
  },
  {
   "cell_type": "markdown",
   "metadata": {},
   "source": [
    "# 27. В каком месяце за все годы суммарно вышло больше всего фильмов?\n",
    "Варианты ответа:\n",
    "1. Январь\n",
    "2. Июнь\n",
    "3. Декабрь\n",
    "4. Сентябрь\n",
    "5. Май"
   ]
  },
  {
   "cell_type": "code",
   "execution_count": 70,
   "metadata": {},
   "outputs": [
    {
     "data": {
      "text/plain": [
       "9     227\n",
       "12    191\n",
       "10    186\n",
       "8     161\n",
       "3     156\n",
       "4     149\n",
       "6     147\n",
       "11    146\n",
       "7     142\n",
       "5     140\n",
       "2     135\n",
       "1     110\n",
       "Name: month, dtype: int64"
      ]
     },
     "execution_count": 70,
     "metadata": {},
     "output_type": "execute_result"
    }
   ],
   "source": [
    "df_date = pd.DataFrame(df.release_date.str.split('/').tolist())\n",
    "df_date.columns = ['month','day','year']\n",
    "df_date['original_title'] = df.original_title\n",
    "df_date.month.value_counts()"
   ]
  },
  {
   "cell_type": "code",
   "execution_count": 16,
   "metadata": {},
   "outputs": [
    {
     "data": {
      "text/plain": [
       "9     227\n",
       "12    191\n",
       "10    186\n",
       "8     161\n",
       "3     156\n",
       "4     149\n",
       "6     147\n",
       "11    146\n",
       "7     142\n",
       "5     140\n",
       "2     135\n",
       "1     110\n",
       "Name: release_date, dtype: int64"
      ]
     },
     "execution_count": 16,
     "metadata": {},
     "output_type": "execute_result"
    }
   ],
   "source": [
    "df['release_date'] = pd.to_datetime(df['release_date'])\n",
    "df.release_date.dt.month.value_counts()"
   ]
  },
  {
   "cell_type": "code",
   "execution_count": 71,
   "metadata": {},
   "outputs": [],
   "source": [
    "answer_ls.append(4)"
   ]
  },
  {
   "cell_type": "markdown",
   "metadata": {},
   "source": [
    "# 28. Сколько суммарно вышло фильмов летом? (за июнь, июль, август)\n",
    "Варианты ответа:\n",
    "1. 345\n",
    "2. 450\n",
    "3. 478\n",
    "4. 523\n",
    "5. 381"
   ]
  },
  {
   "cell_type": "code",
   "execution_count": 72,
   "metadata": {},
   "outputs": [
    {
     "data": {
      "text/plain": [
       "450"
      ]
     },
     "execution_count": 72,
     "metadata": {},
     "output_type": "execute_result"
    }
   ],
   "source": [
    "df_date[(df_date.month == '6')|(df_date.month == '7')|(df_date.month == '8')].original_title.count()"
   ]
  },
  {
   "cell_type": "code",
   "execution_count": null,
   "metadata": {},
   "outputs": [],
   "source": []
  },
  {
   "cell_type": "code",
   "execution_count": 73,
   "metadata": {},
   "outputs": [],
   "source": [
    "answer_ls.append(2)"
   ]
  },
  {
   "cell_type": "markdown",
   "metadata": {},
   "source": [
    "# 29. Какой режисер выпускает (суммарно по годам) больше всего фильмов зимой?\n",
    "Варианты ответов:\n",
    "1. Steven Soderbergh\n",
    "2. Christopher Nolan\n",
    "3. Clint Eastwood\n",
    "4. Ridley Scott\n",
    "5. Peter Jackson"
   ]
  },
  {
   "cell_type": "code",
   "execution_count": 74,
   "metadata": {},
   "outputs": [
    {
     "data": {
      "text/plain": [
       "[('Peter Jackson', 7)]"
      ]
     },
     "execution_count": 74,
     "metadata": {},
     "output_type": "execute_result"
    }
   ],
   "source": [
    "df_date['director'] = df.director\n",
    "genre_counter3 = Counter()\n",
    "for x in df[(df_date.month == '12')|(df_date.month == '1')|(df_date.month == '2')].director.str.split('|'):\n",
    "    genre_counter3 += Counter(x)\n",
    "genre_counter3.most_common(1)"
   ]
  },
  {
   "cell_type": "code",
   "execution_count": 75,
   "metadata": {},
   "outputs": [],
   "source": [
    "answer_ls.append(5)"
   ]
  },
  {
   "cell_type": "markdown",
   "metadata": {},
   "source": [
    "# 30. Какой месяц чаще всего по годам самый прибыльный?\n",
    "Варианты ответа:\n",
    "1. Январь\n",
    "2. Июнь\n",
    "3. Декабрь\n",
    "4. Сентябрь\n",
    "5. Май"
   ]
  },
  {
   "cell_type": "code",
   "execution_count": 76,
   "metadata": {},
   "outputs": [
    {
     "data": {
      "text/plain": [
       "month\n",
       "6     27551262500\n",
       "12    26563071474\n",
       "5     25039516141\n",
       "11    18654155473\n",
       "7     18307895020\n",
       "3     13720216540\n",
       "10    12994907859\n",
       "4     12876005537\n",
       "9     10878921041\n",
       "8      9640610446\n",
       "2      8854574425\n",
       "1      5396885454\n",
       "Name: profit, dtype: int64"
      ]
     },
     "execution_count": 76,
     "metadata": {},
     "output_type": "execute_result"
    }
   ],
   "source": [
    "df_date['profit'] = df.profit\n",
    "df_date.groupby(by = ['month'])['profit'].sum().sort_values(ascending=False)"
   ]
  },
  {
   "cell_type": "code",
   "execution_count": 77,
   "metadata": {},
   "outputs": [],
   "source": [
    "answer_ls.append(2)"
   ]
  },
  {
   "cell_type": "markdown",
   "metadata": {},
   "source": [
    "# 31. Названия фильмов какой студии в среднем самые длинные по количеству символов?\n",
    "Варианты ответа:\n",
    "1. Universal Pictures (Universal)\n",
    "2. Warner Bros\n",
    "3. Jim Henson Company, The\n",
    "4. Paramount Pictures\n",
    "5. Four By Two Productions"
   ]
  },
  {
   "cell_type": "code",
   "execution_count": 8,
   "metadata": {},
   "outputs": [
    {
     "data": {
      "text/plain": [
       "company\n",
       "Four By Two Productions       83.0\n",
       "Jim Henson Company, The       59.0\n",
       "Dos Corazones                 47.0\n",
       "Polsky Films                  46.0\n",
       "Museum Canada Productions     46.0\n",
       "                              ... \n",
       "Everest Entertainment          3.0\n",
       "Berlanti Productions           3.0\n",
       "XM2 Productions                2.0\n",
       "Ixtlan Productions             2.0\n",
       "Global Entertainment Group     2.0\n",
       "Name: name_length, Length: 1772, dtype: float64"
      ]
     },
     "execution_count": 8,
     "metadata": {},
     "output_type": "execute_result"
    }
   ],
   "source": [
    "df_company['original_title'] = df_company.film_index.apply(lambda x : df.iloc[x]['original_title'])\n",
    "\n",
    "def count_symbols(df):\n",
    "    for i in df:\n",
    "        return  len(df)\n",
    "\n",
    "\n",
    "df_company['name_length'] = df_company.original_title.apply(count_symbols)\n",
    "df_company.groupby(by = ['company'])['name_length'].mean().sort_values(ascending=False)"
   ]
  },
  {
   "cell_type": "code",
   "execution_count": 79,
   "metadata": {},
   "outputs": [],
   "source": [
    "answer_ls.append(5)"
   ]
  },
  {
   "cell_type": "markdown",
   "metadata": {},
   "source": [
    "# 32. Названия фильмов какой студии в среднем самые длинные по количеству слов?\n",
    "Варианты ответа:\n",
    "1. Universal Pictures (Universal)\n",
    "2. Warner Bros\n",
    "3. Jim Henson Company, The\n",
    "4. Paramount Pictures\n",
    "5. Four By Two Productions"
   ]
  },
  {
   "cell_type": "code",
   "execution_count": 14,
   "metadata": {},
   "outputs": [
    {
     "data": {
      "text/plain": [
       "company\n",
       "Four By Two Productions           12.0\n",
       "Jim Henson Company, The           10.0\n",
       "The Saul Zaentz Company            9.0\n",
       "Dos Corazones                      8.0\n",
       "Harry Potter Publishing Rights     8.0\n",
       "                                  ... \n",
       "Lunar Industries                   1.0\n",
       "M Productions                      1.0\n",
       "Sechzehnte Babelsberg Film         1.0\n",
       "Eagle Vision Inc.                  1.0\n",
       "Cohen/Pearl Productions            1.0\n",
       "Name: word_count, Length: 1772, dtype: float64"
      ]
     },
     "execution_count": 14,
     "metadata": {},
     "output_type": "execute_result"
    }
   ],
   "source": [
    "def word_counter(df):\n",
    "    for i in df:\n",
    "        return len(df.split())\n",
    "df_company.original_title = df_company.original_title.apply(lambda x: x.replace('&',''))\n",
    "df_company.original_title = df_company.original_title.apply(lambda x: x.replace(':',''))\n",
    "df_company.original_title = df_company.original_title.apply(lambda x: x.replace('-',''))\n",
    "df_company.original_title = df_company.original_title.apply(lambda x: x.replace(';',''))\n",
    "df_company['word_count'] = df_company.original_title.apply(word_counter)\n",
    "df_company.groupby(by = ['company'])['word_count'].mean().sort_values(ascending=False)"
   ]
  },
  {
   "cell_type": "code",
   "execution_count": 81,
   "metadata": {},
   "outputs": [],
   "source": [
    "answer_ls.append(5)"
   ]
  },
  {
   "cell_type": "markdown",
   "metadata": {},
   "source": [
    "# 33. Сколько разных слов используется в названиях фильмов?(без учета регистра)\n",
    "Варианты ответа:\n",
    "1. 6540\n",
    "2. 1002\n",
    "3. 2461\n",
    "4. 28304\n",
    "5. 3432"
   ]
  },
  {
   "cell_type": "code",
   "execution_count": 82,
   "metadata": {},
   "outputs": [
    {
     "data": {
      "text/plain": [
       "2461"
      ]
     },
     "execution_count": 82,
     "metadata": {},
     "output_type": "execute_result"
    }
   ],
   "source": [
    "col=[]\n",
    "for item in df.original_title:\n",
    "    col.append(item.lower())\n",
    "df.original_title = col\n",
    "\n",
    "word_counter = Counter()\n",
    "for i in df.original_title.str.split():\n",
    "    word_counter += Counter(i)\n",
    "len(word_counter)"
   ]
  },
  {
   "cell_type": "code",
   "execution_count": 83,
   "metadata": {},
   "outputs": [],
   "source": [
    "answer_ls.append(3)"
   ]
  },
  {
   "cell_type": "markdown",
   "metadata": {},
   "source": [
    "# 34. Какие фильмы входят в 1 процент лучших по рейтингу?\n",
    "Варианты ответа:\n",
    "1. Inside Out, Gone Girl, 12 Years a Slave\n",
    "2. BloodRayne, The Adventures of Rocky & Bullwinkle\n",
    "3. The Lord of the Rings: The Return of the King\n",
    "4. 300, Lucky Number Slevin"
   ]
  },
  {
   "cell_type": "code",
   "execution_count": 84,
   "metadata": {},
   "outputs": [
    {
     "name": "stdout",
     "output_type": "stream",
     "text": [
      "7.8\n"
     ]
    },
    {
     "data": {
      "text/plain": [
       "9                                          inside out\n",
       "34                                               room\n",
       "118                                      interstellar\n",
       "119                           guardians of the galaxy\n",
       "125                                the imitation game\n",
       "128                                         gone girl\n",
       "138                          the grand budapest hotel\n",
       "370                                         inception\n",
       "600                                   the dark knight\n",
       "873                                       the pianist\n",
       "1082    the lord of the rings: the return of the king\n",
       "1184                          the wolf of wall street\n",
       "1192                                 12 years a slave\n",
       "1801                                          memento\n",
       "Name: original_title, dtype: object"
      ]
     },
     "execution_count": 84,
     "metadata": {},
     "output_type": "execute_result"
    }
   ],
   "source": [
    "print(np.percentile(df.vote_average, 99))\n",
    "df[df.vote_average > 7.8].original_title"
   ]
  },
  {
   "cell_type": "code",
   "execution_count": 85,
   "metadata": {},
   "outputs": [],
   "source": [
    "answer_ls.append(1)"
   ]
  },
  {
   "cell_type": "markdown",
   "metadata": {},
   "source": [
    "# 35. Какие актеры чаще всего снимаются в одном фильме вместе\n",
    "Варианты ответа:\n",
    "1. Johnny Depp & Helena Bonham Carter\n",
    "2. Hugh Jackman & Ian McKellen\n",
    "3. Vin Diesel & Paul Walker\n",
    "4. Adam Sandler & Kevin James\n",
    "5. Daniel Radcliffe & Rupert Grint"
   ]
  },
  {
   "cell_type": "code",
   "execution_count": 86,
   "metadata": {},
   "outputs": [
    {
     "data": {
      "text/plain": [
       "[(('Daniel Radcliffe', 'Rupert Grint'), 8)]"
      ]
     },
     "execution_count": 86,
     "metadata": {},
     "output_type": "execute_result"
    }
   ],
   "source": [
    "import itertools\n",
    "df_actor = pd.DataFrame(df.cast.str.split('|'))\n",
    "df_actor\n",
    "Counter(np.sum([list(itertools.combinations(x, 2)) for x in df_actor.cast])).most_common(1) "
   ]
  },
  {
   "cell_type": "code",
   "execution_count": 87,
   "metadata": {},
   "outputs": [],
   "source": [
    "answer_ls.append(5)"
   ]
  },
  {
   "cell_type": "markdown",
   "metadata": {},
   "source": [
    "# 36. У какого из режиссеров выше вероятность выпустить фильм в прибыли? (5 баллов)101\n",
    "Варианты ответа:\n",
    "1. Quentin Tarantino\n",
    "2. Steven Soderbergh\n",
    "3. Robert Rodriguez\n",
    "4. Christopher Nolan\n",
    "5. Clint Eastwood"
   ]
  },
  {
   "cell_type": "code",
   "execution_count": null,
   "metadata": {},
   "outputs": [],
   "source": [
    "#Человеческого решения не придумал"
   ]
  },
  {
   "cell_type": "code",
   "execution_count": 88,
   "metadata": {},
   "outputs": [],
   "source": [
    "answer_ls.append(4)"
   ]
  },
  {
   "cell_type": "markdown",
   "metadata": {},
   "source": [
    "# Submission"
   ]
  },
  {
   "cell_type": "code",
   "execution_count": 89,
   "metadata": {},
   "outputs": [
    {
     "data": {
      "text/plain": [
       "36"
      ]
     },
     "execution_count": 89,
     "metadata": {},
     "output_type": "execute_result"
    }
   ],
   "source": [
    "len(answer_ls)"
   ]
  },
  {
   "cell_type": "code",
   "execution_count": 90,
   "metadata": {},
   "outputs": [
    {
     "data": {
      "text/html": [
       "<div>\n",
       "<style scoped>\n",
       "    .dataframe tbody tr th:only-of-type {\n",
       "        vertical-align: middle;\n",
       "    }\n",
       "\n",
       "    .dataframe tbody tr th {\n",
       "        vertical-align: top;\n",
       "    }\n",
       "\n",
       "    .dataframe thead th {\n",
       "        text-align: right;\n",
       "    }\n",
       "</style>\n",
       "<table border=\"1\" class=\"dataframe\">\n",
       "  <thead>\n",
       "    <tr style=\"text-align: right;\">\n",
       "      <th></th>\n",
       "      <th>Id</th>\n",
       "      <th>Answer</th>\n",
       "    </tr>\n",
       "  </thead>\n",
       "  <tbody>\n",
       "    <tr>\n",
       "      <th>0</th>\n",
       "      <td>1</td>\n",
       "      <td>4</td>\n",
       "    </tr>\n",
       "    <tr>\n",
       "      <th>1</th>\n",
       "      <td>2</td>\n",
       "      <td>2</td>\n",
       "    </tr>\n",
       "    <tr>\n",
       "      <th>2</th>\n",
       "      <td>3</td>\n",
       "      <td>3</td>\n",
       "    </tr>\n",
       "    <tr>\n",
       "      <th>3</th>\n",
       "      <td>4</td>\n",
       "      <td>2</td>\n",
       "    </tr>\n",
       "    <tr>\n",
       "      <th>4</th>\n",
       "      <td>5</td>\n",
       "      <td>1</td>\n",
       "    </tr>\n",
       "    <tr>\n",
       "      <th>5</th>\n",
       "      <td>6</td>\n",
       "      <td>5</td>\n",
       "    </tr>\n",
       "    <tr>\n",
       "      <th>6</th>\n",
       "      <td>7</td>\n",
       "      <td>2</td>\n",
       "    </tr>\n",
       "    <tr>\n",
       "      <th>7</th>\n",
       "      <td>8</td>\n",
       "      <td>1</td>\n",
       "    </tr>\n",
       "    <tr>\n",
       "      <th>8</th>\n",
       "      <td>9</td>\n",
       "      <td>4</td>\n",
       "    </tr>\n",
       "    <tr>\n",
       "      <th>9</th>\n",
       "      <td>10</td>\n",
       "      <td>5</td>\n",
       "    </tr>\n",
       "    <tr>\n",
       "      <th>10</th>\n",
       "      <td>11</td>\n",
       "      <td>3</td>\n",
       "    </tr>\n",
       "    <tr>\n",
       "      <th>11</th>\n",
       "      <td>12</td>\n",
       "      <td>1</td>\n",
       "    </tr>\n",
       "    <tr>\n",
       "      <th>12</th>\n",
       "      <td>13</td>\n",
       "      <td>3</td>\n",
       "    </tr>\n",
       "    <tr>\n",
       "      <th>13</th>\n",
       "      <td>14</td>\n",
       "      <td>4</td>\n",
       "    </tr>\n",
       "    <tr>\n",
       "      <th>14</th>\n",
       "      <td>15</td>\n",
       "      <td>5</td>\n",
       "    </tr>\n",
       "    <tr>\n",
       "      <th>15</th>\n",
       "      <td>16</td>\n",
       "      <td>1</td>\n",
       "    </tr>\n",
       "    <tr>\n",
       "      <th>16</th>\n",
       "      <td>17</td>\n",
       "      <td>3</td>\n",
       "    </tr>\n",
       "    <tr>\n",
       "      <th>17</th>\n",
       "      <td>18</td>\n",
       "      <td>3</td>\n",
       "    </tr>\n",
       "    <tr>\n",
       "      <th>18</th>\n",
       "      <td>19</td>\n",
       "      <td>2</td>\n",
       "    </tr>\n",
       "    <tr>\n",
       "      <th>19</th>\n",
       "      <td>20</td>\n",
       "      <td>1</td>\n",
       "    </tr>\n",
       "    <tr>\n",
       "      <th>20</th>\n",
       "      <td>21</td>\n",
       "      <td>4</td>\n",
       "    </tr>\n",
       "    <tr>\n",
       "      <th>21</th>\n",
       "      <td>22</td>\n",
       "      <td>2</td>\n",
       "    </tr>\n",
       "    <tr>\n",
       "      <th>22</th>\n",
       "      <td>23</td>\n",
       "      <td>3</td>\n",
       "    </tr>\n",
       "    <tr>\n",
       "      <th>23</th>\n",
       "      <td>24</td>\n",
       "      <td>1</td>\n",
       "    </tr>\n",
       "    <tr>\n",
       "      <th>24</th>\n",
       "      <td>25</td>\n",
       "      <td>5</td>\n",
       "    </tr>\n",
       "    <tr>\n",
       "      <th>25</th>\n",
       "      <td>26</td>\n",
       "      <td>1</td>\n",
       "    </tr>\n",
       "    <tr>\n",
       "      <th>26</th>\n",
       "      <td>27</td>\n",
       "      <td>4</td>\n",
       "    </tr>\n",
       "    <tr>\n",
       "      <th>27</th>\n",
       "      <td>28</td>\n",
       "      <td>2</td>\n",
       "    </tr>\n",
       "    <tr>\n",
       "      <th>28</th>\n",
       "      <td>29</td>\n",
       "      <td>5</td>\n",
       "    </tr>\n",
       "    <tr>\n",
       "      <th>29</th>\n",
       "      <td>30</td>\n",
       "      <td>2</td>\n",
       "    </tr>\n",
       "    <tr>\n",
       "      <th>30</th>\n",
       "      <td>31</td>\n",
       "      <td>5</td>\n",
       "    </tr>\n",
       "    <tr>\n",
       "      <th>31</th>\n",
       "      <td>32</td>\n",
       "      <td>5</td>\n",
       "    </tr>\n",
       "    <tr>\n",
       "      <th>32</th>\n",
       "      <td>33</td>\n",
       "      <td>3</td>\n",
       "    </tr>\n",
       "    <tr>\n",
       "      <th>33</th>\n",
       "      <td>34</td>\n",
       "      <td>1</td>\n",
       "    </tr>\n",
       "    <tr>\n",
       "      <th>34</th>\n",
       "      <td>35</td>\n",
       "      <td>5</td>\n",
       "    </tr>\n",
       "    <tr>\n",
       "      <th>35</th>\n",
       "      <td>36</td>\n",
       "      <td>4</td>\n",
       "    </tr>\n",
       "  </tbody>\n",
       "</table>\n",
       "</div>"
      ],
      "text/plain": [
       "    Id  Answer\n",
       "0    1       4\n",
       "1    2       2\n",
       "2    3       3\n",
       "3    4       2\n",
       "4    5       1\n",
       "5    6       5\n",
       "6    7       2\n",
       "7    8       1\n",
       "8    9       4\n",
       "9   10       5\n",
       "10  11       3\n",
       "11  12       1\n",
       "12  13       3\n",
       "13  14       4\n",
       "14  15       5\n",
       "15  16       1\n",
       "16  17       3\n",
       "17  18       3\n",
       "18  19       2\n",
       "19  20       1\n",
       "20  21       4\n",
       "21  22       2\n",
       "22  23       3\n",
       "23  24       1\n",
       "24  25       5\n",
       "25  26       1\n",
       "26  27       4\n",
       "27  28       2\n",
       "28  29       5\n",
       "29  30       2\n",
       "30  31       5\n",
       "31  32       5\n",
       "32  33       3\n",
       "33  34       1\n",
       "34  35       5\n",
       "35  36       4"
      ]
     },
     "execution_count": 90,
     "metadata": {},
     "output_type": "execute_result"
    }
   ],
   "source": [
    "pd.DataFrame({'Id':range(1,len(answer_ls)+1), 'Answer':answer_ls}, columns=['Id', 'Answer'])"
   ]
  },
  {
   "cell_type": "code",
   "execution_count": null,
   "metadata": {},
   "outputs": [],
   "source": []
  }
 ],
 "metadata": {
  "kernelspec": {
   "display_name": "Python 3",
   "language": "python",
   "name": "python3"
  },
  "language_info": {
   "codemirror_mode": {
    "name": "ipython",
    "version": 3
   },
   "file_extension": ".py",
   "mimetype": "text/x-python",
   "name": "python",
   "nbconvert_exporter": "python",
   "pygments_lexer": "ipython3",
   "version": "3.7.6"
  }
 },
 "nbformat": 4,
 "nbformat_minor": 4
}
