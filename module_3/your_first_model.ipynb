{
 "cells": [
  {
   "cell_type": "markdown",
   "metadata": {},
   "source": [
    "# Загрузка Pandas и очистка данных"
   ]
  },
  {
   "cell_type": "code",
   "execution_count": 659,
   "metadata": {},
   "outputs": [],
   "source": [
    "import pandas as pd\n",
    "import sklearn\n",
    "import numpy as np\n",
    "import seaborn as sns\n",
    "from sklearn.preprocessing import LabelEncoder\n",
    "import datetime\n",
    "import matplotlib.pyplot as plt"
   ]
  },
  {
   "cell_type": "code",
   "execution_count": 660,
   "metadata": {},
   "outputs": [],
   "source": [
    "df = pd.read_csv('main_task.csv')"
   ]
  },
  {
   "cell_type": "code",
   "execution_count": 661,
   "metadata": {},
   "outputs": [],
   "source": [
    "# Ваш код по очистке данных и генерации новых признаков\n",
    "# При необходимости добавьте ячейки"
   ]
  },
  {
   "cell_type": "markdown",
   "metadata": {},
   "source": [
    "#### Для начала посмотрим на загруженный файл и пройдемся по каждому столбцу, проанализировав формат данных, содержание и.т.д:"
   ]
  },
  {
   "cell_type": "code",
   "execution_count": 662,
   "metadata": {},
   "outputs": [
    {
     "data": {
      "text/html": [
       "<div>\n",
       "<style scoped>\n",
       "    .dataframe tbody tr th:only-of-type {\n",
       "        vertical-align: middle;\n",
       "    }\n",
       "\n",
       "    .dataframe tbody tr th {\n",
       "        vertical-align: top;\n",
       "    }\n",
       "\n",
       "    .dataframe thead th {\n",
       "        text-align: right;\n",
       "    }\n",
       "</style>\n",
       "<table border=\"1\" class=\"dataframe\">\n",
       "  <thead>\n",
       "    <tr style=\"text-align: right;\">\n",
       "      <th></th>\n",
       "      <th>Restaurant_id</th>\n",
       "      <th>City</th>\n",
       "      <th>Cuisine Style</th>\n",
       "      <th>Ranking</th>\n",
       "      <th>Rating</th>\n",
       "      <th>Price Range</th>\n",
       "      <th>Number of Reviews</th>\n",
       "      <th>Reviews</th>\n",
       "      <th>URL_TA</th>\n",
       "      <th>ID_TA</th>\n",
       "    </tr>\n",
       "  </thead>\n",
       "  <tbody>\n",
       "    <tr>\n",
       "      <th>0</th>\n",
       "      <td>id_5569</td>\n",
       "      <td>Paris</td>\n",
       "      <td>['European', 'French', 'International']</td>\n",
       "      <td>5570.0</td>\n",
       "      <td>3.5</td>\n",
       "      <td>$$ - $$$</td>\n",
       "      <td>194.0</td>\n",
       "      <td>[['Good food at your doorstep', 'A good hotel ...</td>\n",
       "      <td>/Restaurant_Review-g187147-d1912643-Reviews-R_...</td>\n",
       "      <td>d1912643</td>\n",
       "    </tr>\n",
       "    <tr>\n",
       "      <th>1</th>\n",
       "      <td>id_1535</td>\n",
       "      <td>Stockholm</td>\n",
       "      <td>NaN</td>\n",
       "      <td>1537.0</td>\n",
       "      <td>4.0</td>\n",
       "      <td>NaN</td>\n",
       "      <td>10.0</td>\n",
       "      <td>[['Unique cuisine', 'Delicious Nepalese food']...</td>\n",
       "      <td>/Restaurant_Review-g189852-d7992032-Reviews-Bu...</td>\n",
       "      <td>d7992032</td>\n",
       "    </tr>\n",
       "    <tr>\n",
       "      <th>2</th>\n",
       "      <td>id_352</td>\n",
       "      <td>London</td>\n",
       "      <td>['Japanese', 'Sushi', 'Asian', 'Grill', 'Veget...</td>\n",
       "      <td>353.0</td>\n",
       "      <td>4.5</td>\n",
       "      <td>$$$$</td>\n",
       "      <td>688.0</td>\n",
       "      <td>[['Catch up with friends', 'Not exceptional'],...</td>\n",
       "      <td>/Restaurant_Review-g186338-d8632781-Reviews-RO...</td>\n",
       "      <td>d8632781</td>\n",
       "    </tr>\n",
       "    <tr>\n",
       "      <th>3</th>\n",
       "      <td>id_3456</td>\n",
       "      <td>Berlin</td>\n",
       "      <td>NaN</td>\n",
       "      <td>3458.0</td>\n",
       "      <td>5.0</td>\n",
       "      <td>NaN</td>\n",
       "      <td>3.0</td>\n",
       "      <td>[[], []]</td>\n",
       "      <td>/Restaurant_Review-g187323-d1358776-Reviews-Es...</td>\n",
       "      <td>d1358776</td>\n",
       "    </tr>\n",
       "    <tr>\n",
       "      <th>4</th>\n",
       "      <td>id_615</td>\n",
       "      <td>Munich</td>\n",
       "      <td>['German', 'Central European', 'Vegetarian Fri...</td>\n",
       "      <td>621.0</td>\n",
       "      <td>4.0</td>\n",
       "      <td>$$ - $$$</td>\n",
       "      <td>84.0</td>\n",
       "      <td>[['Best place to try a Bavarian food', 'Nice b...</td>\n",
       "      <td>/Restaurant_Review-g187309-d6864963-Reviews-Au...</td>\n",
       "      <td>d6864963</td>\n",
       "    </tr>\n",
       "  </tbody>\n",
       "</table>\n",
       "</div>"
      ],
      "text/plain": [
       "  Restaurant_id       City                                      Cuisine Style  \\\n",
       "0       id_5569      Paris            ['European', 'French', 'International']   \n",
       "1       id_1535  Stockholm                                                NaN   \n",
       "2        id_352     London  ['Japanese', 'Sushi', 'Asian', 'Grill', 'Veget...   \n",
       "3       id_3456     Berlin                                                NaN   \n",
       "4        id_615     Munich  ['German', 'Central European', 'Vegetarian Fri...   \n",
       "\n",
       "   Ranking  Rating Price Range  Number of Reviews  \\\n",
       "0   5570.0     3.5    $$ - $$$              194.0   \n",
       "1   1537.0     4.0         NaN               10.0   \n",
       "2    353.0     4.5        $$$$              688.0   \n",
       "3   3458.0     5.0         NaN                3.0   \n",
       "4    621.0     4.0    $$ - $$$               84.0   \n",
       "\n",
       "                                             Reviews  \\\n",
       "0  [['Good food at your doorstep', 'A good hotel ...   \n",
       "1  [['Unique cuisine', 'Delicious Nepalese food']...   \n",
       "2  [['Catch up with friends', 'Not exceptional'],...   \n",
       "3                                           [[], []]   \n",
       "4  [['Best place to try a Bavarian food', 'Nice b...   \n",
       "\n",
       "                                              URL_TA     ID_TA  \n",
       "0  /Restaurant_Review-g187147-d1912643-Reviews-R_...  d1912643  \n",
       "1  /Restaurant_Review-g189852-d7992032-Reviews-Bu...  d7992032  \n",
       "2  /Restaurant_Review-g186338-d8632781-Reviews-RO...  d8632781  \n",
       "3  /Restaurant_Review-g187323-d1358776-Reviews-Es...  d1358776  \n",
       "4  /Restaurant_Review-g187309-d6864963-Reviews-Au...  d6864963  "
      ]
     },
     "execution_count": 662,
     "metadata": {},
     "output_type": "execute_result"
    }
   ],
   "source": [
    "df.head(5)"
   ]
  },
  {
   "cell_type": "code",
   "execution_count": 663,
   "metadata": {},
   "outputs": [
    {
     "name": "stdout",
     "output_type": "stream",
     "text": [
      "<class 'pandas.core.frame.DataFrame'>\n",
      "RangeIndex: 40000 entries, 0 to 39999\n",
      "Data columns (total 10 columns):\n",
      " #   Column             Non-Null Count  Dtype  \n",
      "---  ------             --------------  -----  \n",
      " 0   Restaurant_id      40000 non-null  object \n",
      " 1   City               40000 non-null  object \n",
      " 2   Cuisine Style      30717 non-null  object \n",
      " 3   Ranking            40000 non-null  float64\n",
      " 4   Rating             40000 non-null  float64\n",
      " 5   Price Range        26114 non-null  object \n",
      " 6   Number of Reviews  37457 non-null  float64\n",
      " 7   Reviews            40000 non-null  object \n",
      " 8   URL_TA             40000 non-null  object \n",
      " 9   ID_TA              40000 non-null  object \n",
      "dtypes: float64(3), object(7)\n",
      "memory usage: 3.1+ MB\n"
     ]
    }
   ],
   "source": [
    "df.info()"
   ]
  },
  {
   "cell_type": "markdown",
   "metadata": {},
   "source": [
    "#### Краткая справка по загруженному файлу:\n",
    "    Загруженный файл содержит сведения о 40 000 ресторанах Европы.\n",
    "Датасет состоит из десяти столбцов, содержащих следующую информацию:\n",
    "\n",
    "- Restaurant_id — идентификационный номер ресторана / сети ресторанов;\n",
    "- City — город, в котором находится ресторан;\n",
    "- Cuisine Style — кухня или кухни, к которым можно отнести блюда, предлагаемые в ресторане;\n",
    "- Ranking — место, которое занимает данный ресторан среди всех ресторанов своего города;\n",
    "- Rating — рейтинг ресторана по данным TripAdvisor (именно это значение должна будет предсказывать модель);\n",
    "- Price Range — диапазон цен в ресторане;\n",
    "- Number of Reviews — количество отзывов о ресторане;\n",
    "- Reviews — данные о двух отзывах, которые отображаются на сайте ресторана;\n",
    "- URL_TA — URL страницы ресторана на TripAdvosor;\n",
    "- ID_TA — идентификатор ресторана в базе данных TripAdvisor.\n",
    "\n",
    "3 столбца из 10 имеют числовые значения, и 7 столбцов имеют текстовые значения. Более того пропуски имеются в столбцах 'Cuisine Style', 'Price Range', 'Number of Reviews'"
   ]
  },
  {
   "cell_type": "code",
   "execution_count": 664,
   "metadata": {},
   "outputs": [],
   "source": [
    "df.columns = [x.lower() for x in df.columns]"
   ]
  },
  {
   "cell_type": "markdown",
   "metadata": {},
   "source": [
    "#### Посмотрим на столбец 'id_ta' и проанализуем его содержание"
   ]
  },
  {
   "cell_type": "code",
   "execution_count": 665,
   "metadata": {},
   "outputs": [
    {
     "data": {
      "text/plain": [
       "d13002276    2\n",
       "d8753348     2\n",
       "d3161682     2\n",
       "d1315077     2\n",
       "d11674463    2\n",
       "            ..\n",
       "d1122768     1\n",
       "d8380566     1\n",
       "d10894995    1\n",
       "d3687467     1\n",
       "d4556249     1\n",
       "Name: id_ta, Length: 39980, dtype: int64"
      ]
     },
     "execution_count": 665,
     "metadata": {},
     "output_type": "execute_result"
    }
   ],
   "source": [
    "df.id_ta.value_counts()"
   ]
  },
  {
   "cell_type": "code",
   "execution_count": 666,
   "metadata": {},
   "outputs": [
    {
     "data": {
      "text/html": [
       "<div>\n",
       "<style scoped>\n",
       "    .dataframe tbody tr th:only-of-type {\n",
       "        vertical-align: middle;\n",
       "    }\n",
       "\n",
       "    .dataframe tbody tr th {\n",
       "        vertical-align: top;\n",
       "    }\n",
       "\n",
       "    .dataframe thead th {\n",
       "        text-align: right;\n",
       "    }\n",
       "</style>\n",
       "<table border=\"1\" class=\"dataframe\">\n",
       "  <thead>\n",
       "    <tr style=\"text-align: right;\">\n",
       "      <th></th>\n",
       "      <th>restaurant_id</th>\n",
       "      <th>city</th>\n",
       "      <th>cuisine style</th>\n",
       "      <th>ranking</th>\n",
       "      <th>rating</th>\n",
       "      <th>price range</th>\n",
       "      <th>number of reviews</th>\n",
       "      <th>reviews</th>\n",
       "      <th>url_ta</th>\n",
       "      <th>id_ta</th>\n",
       "    </tr>\n",
       "  </thead>\n",
       "  <tbody>\n",
       "    <tr>\n",
       "      <th>1579</th>\n",
       "      <td>id_2673</td>\n",
       "      <td>Madrid</td>\n",
       "      <td>['American']</td>\n",
       "      <td>2675.0</td>\n",
       "      <td>5.0</td>\n",
       "      <td>$</td>\n",
       "      <td>6.0</td>\n",
       "      <td>[['Healthy vegan doughnuts are posible', 'Best...</td>\n",
       "      <td>/Restaurant_Review-g187514-d13002276-Reviews-D...</td>\n",
       "      <td>d13002276</td>\n",
       "    </tr>\n",
       "    <tr>\n",
       "      <th>26696</th>\n",
       "      <td>id_2485</td>\n",
       "      <td>Madrid</td>\n",
       "      <td>['American']</td>\n",
       "      <td>2487.0</td>\n",
       "      <td>5.0</td>\n",
       "      <td>$</td>\n",
       "      <td>6.0</td>\n",
       "      <td>[['Healthy vegan doughnuts are posible', 'Best...</td>\n",
       "      <td>/Restaurant_Review-g187514-d13002276-Reviews-D...</td>\n",
       "      <td>d13002276</td>\n",
       "    </tr>\n",
       "  </tbody>\n",
       "</table>\n",
       "</div>"
      ],
      "text/plain": [
       "      restaurant_id    city cuisine style  ranking  rating price range  \\\n",
       "1579        id_2673  Madrid  ['American']   2675.0     5.0           $   \n",
       "26696       id_2485  Madrid  ['American']   2487.0     5.0           $   \n",
       "\n",
       "       number of reviews                                            reviews  \\\n",
       "1579                 6.0  [['Healthy vegan doughnuts are posible', 'Best...   \n",
       "26696                6.0  [['Healthy vegan doughnuts are posible', 'Best...   \n",
       "\n",
       "                                                  url_ta      id_ta  \n",
       "1579   /Restaurant_Review-g187514-d13002276-Reviews-D...  d13002276  \n",
       "26696  /Restaurant_Review-g187514-d13002276-Reviews-D...  d13002276  "
      ]
     },
     "execution_count": 666,
     "metadata": {},
     "output_type": "execute_result"
    }
   ],
   "source": [
    "df[df['id_ta'] == 'd13002276']"
   ]
  },
  {
   "cell_type": "markdown",
   "metadata": {},
   "source": [
    "Как мы видим, столбец содержит дубликаты, предлагается их удалить."
   ]
  },
  {
   "cell_type": "code",
   "execution_count": 667,
   "metadata": {},
   "outputs": [],
   "source": [
    "df.drop_duplicates(subset = ['id_ta'], inplace = True)"
   ]
  },
  {
   "cell_type": "markdown",
   "metadata": {},
   "source": [
    "На первоначальной обработке массива удаление дубликатов позволило уменьшить MAE на 0.01"
   ]
  },
  {
   "cell_type": "markdown",
   "metadata": {},
   "source": [
    "#### Посмотрим на столбец restaurant_id и проанализируем его содержимое"
   ]
  },
  {
   "cell_type": "code",
   "execution_count": 668,
   "metadata": {},
   "outputs": [
    {
     "data": {
      "text/plain": [
       "id_871      18\n",
       "id_633      18\n",
       "id_227      18\n",
       "id_436      18\n",
       "id_430      17\n",
       "            ..\n",
       "id_14360     1\n",
       "id_10685     1\n",
       "id_8921      1\n",
       "id_6139      1\n",
       "id_15058     1\n",
       "Name: restaurant_id, Length: 11907, dtype: int64"
      ]
     },
     "execution_count": 668,
     "metadata": {},
     "output_type": "execute_result"
    }
   ],
   "source": [
    "df.restaurant_id.value_counts()"
   ]
  },
  {
   "cell_type": "code",
   "execution_count": 669,
   "metadata": {},
   "outputs": [
    {
     "data": {
      "text/html": [
       "<div>\n",
       "<style scoped>\n",
       "    .dataframe tbody tr th:only-of-type {\n",
       "        vertical-align: middle;\n",
       "    }\n",
       "\n",
       "    .dataframe tbody tr th {\n",
       "        vertical-align: top;\n",
       "    }\n",
       "\n",
       "    .dataframe thead th {\n",
       "        text-align: right;\n",
       "    }\n",
       "</style>\n",
       "<table border=\"1\" class=\"dataframe\">\n",
       "  <thead>\n",
       "    <tr style=\"text-align: right;\">\n",
       "      <th></th>\n",
       "      <th>restaurant_id</th>\n",
       "      <th>city</th>\n",
       "      <th>cuisine style</th>\n",
       "      <th>ranking</th>\n",
       "      <th>rating</th>\n",
       "      <th>price range</th>\n",
       "      <th>number of reviews</th>\n",
       "      <th>reviews</th>\n",
       "      <th>url_ta</th>\n",
       "      <th>id_ta</th>\n",
       "    </tr>\n",
       "  </thead>\n",
       "  <tbody>\n",
       "    <tr>\n",
       "      <th>1065</th>\n",
       "      <td>id_227</td>\n",
       "      <td>Luxembourg</td>\n",
       "      <td>['Lebanese', 'Mediterranean', 'Middle Eastern'...</td>\n",
       "      <td>228.0</td>\n",
       "      <td>4.0</td>\n",
       "      <td>$$ - $$$</td>\n",
       "      <td>21.0</td>\n",
       "      <td>[['Nice little Lebanese restaurant', 'Great fo...</td>\n",
       "      <td>/Restaurant_Review-g190356-d10275783-Reviews-K...</td>\n",
       "      <td>d10275783</td>\n",
       "    </tr>\n",
       "    <tr>\n",
       "      <th>4727</th>\n",
       "      <td>id_227</td>\n",
       "      <td>Bratislava</td>\n",
       "      <td>['Healthy', 'European', 'Mediterranean', 'Vege...</td>\n",
       "      <td>228.0</td>\n",
       "      <td>4.0</td>\n",
       "      <td>$$ - $$$</td>\n",
       "      <td>122.0</td>\n",
       "      <td>[['Great fish (African sharptooth catfish)', '...</td>\n",
       "      <td>/Restaurant_Review-g274924-d4009959-Reviews-Me...</td>\n",
       "      <td>d4009959</td>\n",
       "    </tr>\n",
       "    <tr>\n",
       "      <th>6237</th>\n",
       "      <td>id_227</td>\n",
       "      <td>Athens</td>\n",
       "      <td>['European', 'Greek', 'Mediterranean']</td>\n",
       "      <td>228.0</td>\n",
       "      <td>4.5</td>\n",
       "      <td>$$ - $$$</td>\n",
       "      <td>220.0</td>\n",
       "      <td>[['Spectacular view and food', 'Great view'], ...</td>\n",
       "      <td>/Restaurant_Review-g189400-d1898490-Reviews-Ol...</td>\n",
       "      <td>d1898490</td>\n",
       "    </tr>\n",
       "    <tr>\n",
       "      <th>7521</th>\n",
       "      <td>id_227</td>\n",
       "      <td>Warsaw</td>\n",
       "      <td>['Polish', 'European', 'Central European', 'Ea...</td>\n",
       "      <td>228.0</td>\n",
       "      <td>4.0</td>\n",
       "      <td>$$ - $$$</td>\n",
       "      <td>95.0</td>\n",
       "      <td>[['Great place', 'A lovely warm place and good...</td>\n",
       "      <td>/Restaurant_Review-g274856-d2410632-Reviews-Fe...</td>\n",
       "      <td>d2410632</td>\n",
       "    </tr>\n",
       "    <tr>\n",
       "      <th>9299</th>\n",
       "      <td>id_227</td>\n",
       "      <td>Amsterdam</td>\n",
       "      <td>['Dutch', 'Bar', 'European', 'Gastropub', 'Caf...</td>\n",
       "      <td>228.0</td>\n",
       "      <td>4.5</td>\n",
       "      <td>$$ - $$$</td>\n",
       "      <td>201.0</td>\n",
       "      <td>[['Historic jewel of a bar in Amsterdam', 'Gre...</td>\n",
       "      <td>/Restaurant_Review-g188590-d753101-Reviews-Pro...</td>\n",
       "      <td>d753101</td>\n",
       "    </tr>\n",
       "    <tr>\n",
       "      <th>12537</th>\n",
       "      <td>id_227</td>\n",
       "      <td>Madrid</td>\n",
       "      <td>['Bar', 'Mediterranean', 'Spanish', 'Vegetaria...</td>\n",
       "      <td>228.0</td>\n",
       "      <td>4.0</td>\n",
       "      <td>$$ - $$$</td>\n",
       "      <td>1011.0</td>\n",
       "      <td>[['Dinner', 'Old traditional Spanish restauran...</td>\n",
       "      <td>/Restaurant_Review-g187514-d697471-Reviews-Cas...</td>\n",
       "      <td>d697471</td>\n",
       "    </tr>\n",
       "    <tr>\n",
       "      <th>13876</th>\n",
       "      <td>id_227</td>\n",
       "      <td>Rome</td>\n",
       "      <td>['Italian', 'Pizza', 'Mediterranean', 'Vegetar...</td>\n",
       "      <td>228.0</td>\n",
       "      <td>4.5</td>\n",
       "      <td>$$ - $$$</td>\n",
       "      <td>1066.0</td>\n",
       "      <td>[['Great start to Italian food journey', 'My F...</td>\n",
       "      <td>/Restaurant_Review-g187791-d1516161-Reviews-Go...</td>\n",
       "      <td>d1516161</td>\n",
       "    </tr>\n",
       "    <tr>\n",
       "      <th>14990</th>\n",
       "      <td>id_227</td>\n",
       "      <td>Dublin</td>\n",
       "      <td>['Italian', 'Pizza', 'Mediterranean', 'Europea...</td>\n",
       "      <td>228.0</td>\n",
       "      <td>4.5</td>\n",
       "      <td>$$ - $$$</td>\n",
       "      <td>119.0</td>\n",
       "      <td>[['Fantastic with young people', 'Italian Scho...</td>\n",
       "      <td>/Restaurant_Review-g186605-d10516461-Reviews-P...</td>\n",
       "      <td>d10516461</td>\n",
       "    </tr>\n",
       "    <tr>\n",
       "      <th>17610</th>\n",
       "      <td>id_227</td>\n",
       "      <td>Ljubljana</td>\n",
       "      <td>['Pizza', 'European', 'Slovenian']</td>\n",
       "      <td>228.0</td>\n",
       "      <td>3.5</td>\n",
       "      <td>$$ - $$$</td>\n",
       "      <td>78.0</td>\n",
       "      <td>[['Good beer', 'OK if you choose correctly'], ...</td>\n",
       "      <td>/Restaurant_Review-g274873-d3292800-Reviews-Kr...</td>\n",
       "      <td>d3292800</td>\n",
       "    </tr>\n",
       "    <tr>\n",
       "      <th>20591</th>\n",
       "      <td>id_227</td>\n",
       "      <td>Helsinki</td>\n",
       "      <td>['Asian', 'Vietnamese', 'Vegetarian Friendly',...</td>\n",
       "      <td>228.0</td>\n",
       "      <td>4.5</td>\n",
       "      <td>$</td>\n",
       "      <td>42.0</td>\n",
       "      <td>[['Amazing and cheap Vietnamese veggie food', ...</td>\n",
       "      <td>/Restaurant_Review-g189934-d7130658-Reviews-Se...</td>\n",
       "      <td>d7130658</td>\n",
       "    </tr>\n",
       "    <tr>\n",
       "      <th>22548</th>\n",
       "      <td>id_227</td>\n",
       "      <td>Oslo</td>\n",
       "      <td>['Pizza', 'Italian', 'European', 'Gluten Free ...</td>\n",
       "      <td>228.0</td>\n",
       "      <td>4.5</td>\n",
       "      <td>$$ - $$$</td>\n",
       "      <td>111.0</td>\n",
       "      <td>[['Great bakery during the day, fantastic piz....</td>\n",
       "      <td>/Restaurant_Review-g190479-d2007517-Reviews-Lo...</td>\n",
       "      <td>d2007517</td>\n",
       "    </tr>\n",
       "    <tr>\n",
       "      <th>28763</th>\n",
       "      <td>id_227</td>\n",
       "      <td>Barcelona</td>\n",
       "      <td>['Steakhouse', 'Contemporary', 'Vegetarian Fri...</td>\n",
       "      <td>228.0</td>\n",
       "      <td>4.5</td>\n",
       "      <td>$$ - $$$</td>\n",
       "      <td>525.0</td>\n",
       "      <td>[['A great dinner!', 'Excellent'], ['01/02/201...</td>\n",
       "      <td>/Restaurant_Review-g187497-d1495880-Reviews-Re...</td>\n",
       "      <td>d1495880</td>\n",
       "    </tr>\n",
       "    <tr>\n",
       "      <th>28846</th>\n",
       "      <td>id_227</td>\n",
       "      <td>Budapest</td>\n",
       "      <td>['American', 'Bar', 'European', 'Central Europ...</td>\n",
       "      <td>228.0</td>\n",
       "      <td>4.0</td>\n",
       "      <td>$$ - $$$</td>\n",
       "      <td>1241.0</td>\n",
       "      <td>[['Good Atmosphere', 'Really nice place'], ['1...</td>\n",
       "      <td>/Restaurant_Review-g274887-d3823279-Reviews-Sp...</td>\n",
       "      <td>d3823279</td>\n",
       "    </tr>\n",
       "    <tr>\n",
       "      <th>31368</th>\n",
       "      <td>id_227</td>\n",
       "      <td>Milan</td>\n",
       "      <td>['Italian', 'Seafood', 'European', 'Gluten Fre...</td>\n",
       "      <td>228.0</td>\n",
       "      <td>4.0</td>\n",
       "      <td>$$ - $$$</td>\n",
       "      <td>654.0</td>\n",
       "      <td>[['Perfect for lunch', 'Nice restaurant and go...</td>\n",
       "      <td>/Restaurant_Review-g187849-d7285833-Reviews-Lo...</td>\n",
       "      <td>d7285833</td>\n",
       "    </tr>\n",
       "    <tr>\n",
       "      <th>32016</th>\n",
       "      <td>id_227</td>\n",
       "      <td>Vienna</td>\n",
       "      <td>['German', 'Austrian', 'European', 'Central Eu...</td>\n",
       "      <td>228.0</td>\n",
       "      <td>4.5</td>\n",
       "      <td>$</td>\n",
       "      <td>128.0</td>\n",
       "      <td>[['A welcome port in a snow storm!', 'Local pl...</td>\n",
       "      <td>/Restaurant_Review-g190454-d3606645-Reviews-Ga...</td>\n",
       "      <td>d3606645</td>\n",
       "    </tr>\n",
       "    <tr>\n",
       "      <th>38462</th>\n",
       "      <td>id_227</td>\n",
       "      <td>Geneva</td>\n",
       "      <td>['Japanese', 'Sushi', 'Asian', 'Fusion', 'Vege...</td>\n",
       "      <td>229.0</td>\n",
       "      <td>4.5</td>\n",
       "      <td>$$$$</td>\n",
       "      <td>92.0</td>\n",
       "      <td>[['Amazing', 'Good location with a great view'...</td>\n",
       "      <td>/Restaurant_Review-g188057-d6393335-Reviews-Um...</td>\n",
       "      <td>d6393335</td>\n",
       "    </tr>\n",
       "    <tr>\n",
       "      <th>39288</th>\n",
       "      <td>id_227</td>\n",
       "      <td>Zurich</td>\n",
       "      <td>['French', 'European', 'Central European', 'Ve...</td>\n",
       "      <td>229.0</td>\n",
       "      <td>4.5</td>\n",
       "      <td>$$ - $$$</td>\n",
       "      <td>198.0</td>\n",
       "      <td>[['Great French Bistro', 'Returning to an easy...</td>\n",
       "      <td>/Restaurant_Review-g188113-d1181607-Reviews-Lu...</td>\n",
       "      <td>d1181607</td>\n",
       "    </tr>\n",
       "    <tr>\n",
       "      <th>39601</th>\n",
       "      <td>id_227</td>\n",
       "      <td>Oporto</td>\n",
       "      <td>['Mediterranean', 'European', 'Portuguese', 'V...</td>\n",
       "      <td>228.0</td>\n",
       "      <td>4.0</td>\n",
       "      <td>$$ - $$$</td>\n",
       "      <td>422.0</td>\n",
       "      <td>[['Very Delicious', 'Amazing food in a vintage...</td>\n",
       "      <td>/Restaurant_Review-g189180-d6840750-Reviews-Co...</td>\n",
       "      <td>d6840750</td>\n",
       "    </tr>\n",
       "  </tbody>\n",
       "</table>\n",
       "</div>"
      ],
      "text/plain": [
       "      restaurant_id        city  \\\n",
       "1065         id_227  Luxembourg   \n",
       "4727         id_227  Bratislava   \n",
       "6237         id_227      Athens   \n",
       "7521         id_227      Warsaw   \n",
       "9299         id_227   Amsterdam   \n",
       "12537        id_227      Madrid   \n",
       "13876        id_227        Rome   \n",
       "14990        id_227      Dublin   \n",
       "17610        id_227   Ljubljana   \n",
       "20591        id_227    Helsinki   \n",
       "22548        id_227        Oslo   \n",
       "28763        id_227   Barcelona   \n",
       "28846        id_227    Budapest   \n",
       "31368        id_227       Milan   \n",
       "32016        id_227      Vienna   \n",
       "38462        id_227      Geneva   \n",
       "39288        id_227      Zurich   \n",
       "39601        id_227      Oporto   \n",
       "\n",
       "                                           cuisine style  ranking  rating  \\\n",
       "1065   ['Lebanese', 'Mediterranean', 'Middle Eastern'...    228.0     4.0   \n",
       "4727   ['Healthy', 'European', 'Mediterranean', 'Vege...    228.0     4.0   \n",
       "6237              ['European', 'Greek', 'Mediterranean']    228.0     4.5   \n",
       "7521   ['Polish', 'European', 'Central European', 'Ea...    228.0     4.0   \n",
       "9299   ['Dutch', 'Bar', 'European', 'Gastropub', 'Caf...    228.0     4.5   \n",
       "12537  ['Bar', 'Mediterranean', 'Spanish', 'Vegetaria...    228.0     4.0   \n",
       "13876  ['Italian', 'Pizza', 'Mediterranean', 'Vegetar...    228.0     4.5   \n",
       "14990  ['Italian', 'Pizza', 'Mediterranean', 'Europea...    228.0     4.5   \n",
       "17610                 ['Pizza', 'European', 'Slovenian']    228.0     3.5   \n",
       "20591  ['Asian', 'Vietnamese', 'Vegetarian Friendly',...    228.0     4.5   \n",
       "22548  ['Pizza', 'Italian', 'European', 'Gluten Free ...    228.0     4.5   \n",
       "28763  ['Steakhouse', 'Contemporary', 'Vegetarian Fri...    228.0     4.5   \n",
       "28846  ['American', 'Bar', 'European', 'Central Europ...    228.0     4.0   \n",
       "31368  ['Italian', 'Seafood', 'European', 'Gluten Fre...    228.0     4.0   \n",
       "32016  ['German', 'Austrian', 'European', 'Central Eu...    228.0     4.5   \n",
       "38462  ['Japanese', 'Sushi', 'Asian', 'Fusion', 'Vege...    229.0     4.5   \n",
       "39288  ['French', 'European', 'Central European', 'Ve...    229.0     4.5   \n",
       "39601  ['Mediterranean', 'European', 'Portuguese', 'V...    228.0     4.0   \n",
       "\n",
       "      price range  number of reviews  \\\n",
       "1065     $$ - $$$               21.0   \n",
       "4727     $$ - $$$              122.0   \n",
       "6237     $$ - $$$              220.0   \n",
       "7521     $$ - $$$               95.0   \n",
       "9299     $$ - $$$              201.0   \n",
       "12537    $$ - $$$             1011.0   \n",
       "13876    $$ - $$$             1066.0   \n",
       "14990    $$ - $$$              119.0   \n",
       "17610    $$ - $$$               78.0   \n",
       "20591           $               42.0   \n",
       "22548    $$ - $$$              111.0   \n",
       "28763    $$ - $$$              525.0   \n",
       "28846    $$ - $$$             1241.0   \n",
       "31368    $$ - $$$              654.0   \n",
       "32016           $              128.0   \n",
       "38462        $$$$               92.0   \n",
       "39288    $$ - $$$              198.0   \n",
       "39601    $$ - $$$              422.0   \n",
       "\n",
       "                                                 reviews  \\\n",
       "1065   [['Nice little Lebanese restaurant', 'Great fo...   \n",
       "4727   [['Great fish (African sharptooth catfish)', '...   \n",
       "6237   [['Spectacular view and food', 'Great view'], ...   \n",
       "7521   [['Great place', 'A lovely warm place and good...   \n",
       "9299   [['Historic jewel of a bar in Amsterdam', 'Gre...   \n",
       "12537  [['Dinner', 'Old traditional Spanish restauran...   \n",
       "13876  [['Great start to Italian food journey', 'My F...   \n",
       "14990  [['Fantastic with young people', 'Italian Scho...   \n",
       "17610  [['Good beer', 'OK if you choose correctly'], ...   \n",
       "20591  [['Amazing and cheap Vietnamese veggie food', ...   \n",
       "22548  [['Great bakery during the day, fantastic piz....   \n",
       "28763  [['A great dinner!', 'Excellent'], ['01/02/201...   \n",
       "28846  [['Good Atmosphere', 'Really nice place'], ['1...   \n",
       "31368  [['Perfect for lunch', 'Nice restaurant and go...   \n",
       "32016  [['A welcome port in a snow storm!', 'Local pl...   \n",
       "38462  [['Amazing', 'Good location with a great view'...   \n",
       "39288  [['Great French Bistro', 'Returning to an easy...   \n",
       "39601  [['Very Delicious', 'Amazing food in a vintage...   \n",
       "\n",
       "                                                  url_ta      id_ta  \n",
       "1065   /Restaurant_Review-g190356-d10275783-Reviews-K...  d10275783  \n",
       "4727   /Restaurant_Review-g274924-d4009959-Reviews-Me...   d4009959  \n",
       "6237   /Restaurant_Review-g189400-d1898490-Reviews-Ol...   d1898490  \n",
       "7521   /Restaurant_Review-g274856-d2410632-Reviews-Fe...   d2410632  \n",
       "9299   /Restaurant_Review-g188590-d753101-Reviews-Pro...    d753101  \n",
       "12537  /Restaurant_Review-g187514-d697471-Reviews-Cas...    d697471  \n",
       "13876  /Restaurant_Review-g187791-d1516161-Reviews-Go...   d1516161  \n",
       "14990  /Restaurant_Review-g186605-d10516461-Reviews-P...  d10516461  \n",
       "17610  /Restaurant_Review-g274873-d3292800-Reviews-Kr...   d3292800  \n",
       "20591  /Restaurant_Review-g189934-d7130658-Reviews-Se...   d7130658  \n",
       "22548  /Restaurant_Review-g190479-d2007517-Reviews-Lo...   d2007517  \n",
       "28763  /Restaurant_Review-g187497-d1495880-Reviews-Re...   d1495880  \n",
       "28846  /Restaurant_Review-g274887-d3823279-Reviews-Sp...   d3823279  \n",
       "31368  /Restaurant_Review-g187849-d7285833-Reviews-Lo...   d7285833  \n",
       "32016  /Restaurant_Review-g190454-d3606645-Reviews-Ga...   d3606645  \n",
       "38462  /Restaurant_Review-g188057-d6393335-Reviews-Um...   d6393335  \n",
       "39288  /Restaurant_Review-g188113-d1181607-Reviews-Lu...   d1181607  \n",
       "39601  /Restaurant_Review-g189180-d6840750-Reviews-Co...   d6840750  "
      ]
     },
     "execution_count": 669,
     "metadata": {},
     "output_type": "execute_result"
    }
   ],
   "source": [
    "df[df['restaurant_id'] == 'id_227']"
   ]
  },
  {
   "cell_type": "markdown",
   "metadata": {},
   "source": [
    "По всей видимости внутри каждого города ID ресторана может повторяться. Такие строки не являются дубликатами. \n",
    "\n",
    "Также можно сказать, что данный столбец не несет в себе никакой информации для дальнейшей модели, поэтому предлагается его удалить. Более того числовая часть столбца визуально линейно коррелирует со столбцом ranking. По всей видимости это связано с тем, что restaurant_id присваивается в соответствии с рейтингом ресторана внутри города. Предварительно проверим."
   ]
  },
  {
   "cell_type": "code",
   "execution_count": 670,
   "metadata": {},
   "outputs": [],
   "source": [
    "df['restaurant_id'] = df['restaurant_id'].apply(lambda x: float(x[3:]))"
   ]
  },
  {
   "cell_type": "code",
   "execution_count": 671,
   "metadata": {},
   "outputs": [
    {
     "data": {
      "text/plain": [
       "<seaborn.axisgrid.PairGrid at 0x1a4dbbdb50>"
      ]
     },
     "execution_count": 671,
     "metadata": {},
     "output_type": "execute_result"
    },
    {
     "data": {
      "image/png": "[encoded data removed]",
      "text/plain": [
       "<Figure size 360x360 with 6 Axes>"
      ]
     },
     "metadata": {
      "needs_background": "light"
     },
     "output_type": "display_data"
    }
   ],
   "source": [
    "sns.pairplot(df, vars = ['restaurant_id', 'ranking'], kind='reg')"
   ]
  },
  {
   "cell_type": "code",
   "execution_count": 672,
   "metadata": {},
   "outputs": [],
   "source": [
    "df.drop(['restaurant_id'], inplace = True, axis = 1)"
   ]
  },
  {
   "cell_type": "markdown",
   "metadata": {},
   "source": [
    "#### Рассмотрим столбец 'price range' и проанализируем его"
   ]
  },
  {
   "cell_type": "code",
   "execution_count": 673,
   "metadata": {},
   "outputs": [
    {
     "data": {
      "text/plain": [
       "array(['$$ - $$$', nan, '$$$$', '$'], dtype=object)"
      ]
     },
     "execution_count": 673,
     "metadata": {},
     "output_type": "execute_result"
    }
   ],
   "source": [
    "df['price range'].unique()"
   ]
  },
  {
   "cell_type": "code",
   "execution_count": 674,
   "metadata": {},
   "outputs": [
    {
     "data": {
      "text/plain": [
       "$$ - $$$    18402\n",
       "$            6276\n",
       "$$$$         1423\n",
       "Name: price range, dtype: int64"
      ]
     },
     "execution_count": 674,
     "metadata": {},
     "output_type": "execute_result"
    }
   ],
   "source": [
    "df['price range'].value_counts()"
   ]
  },
  {
   "cell_type": "markdown",
   "metadata": {},
   "source": [
    "Как видно, столбец содержит информацию о ценовой категории ресторана. Всего имеется 3 категории + имеются пропуски. Предлагается заменить значения данного категорального признака числовыми: 1, 2 и 3 (от дешевого до дорогого)\n",
    "\n",
    "Пустые значения предлагается заполнить средними значениями в рамках каждого города"
   ]
  },
  {
   "cell_type": "code",
   "execution_count": 675,
   "metadata": {},
   "outputs": [],
   "source": [
    "df['price range'].replace('$', 1, inplace = True)\n",
    "df['price range'].replace('$$ - $$$', 2, inplace = True)\n",
    "df['price range'].replace('$$$$', 3, inplace = True)"
   ]
  },
  {
   "cell_type": "code",
   "execution_count": 676,
   "metadata": {},
   "outputs": [
    {
     "data": {
      "text/plain": [
       "city\n",
       "Amsterdam     2.0\n",
       "Athens        2.0\n",
       "Barcelona     2.0\n",
       "Berlin        2.0\n",
       "Bratislava    2.0\n",
       "Brussels      2.0\n",
       "Budapest      2.0\n",
       "Copenhagen    2.0\n",
       "Dublin        2.0\n",
       "Edinburgh     2.0\n",
       "Geneva        2.0\n",
       "Hamburg       2.0\n",
       "Helsinki      2.0\n",
       "Krakow        2.0\n",
       "Lisbon        2.0\n",
       "Ljubljana     2.0\n",
       "London        2.0\n",
       "Luxembourg    2.0\n",
       "Lyon          2.0\n",
       "Madrid        2.0\n",
       "Milan         2.0\n",
       "Munich        2.0\n",
       "Oporto        2.0\n",
       "Oslo          2.0\n",
       "Paris         2.0\n",
       "Prague        2.0\n",
       "Rome          2.0\n",
       "Stockholm     2.0\n",
       "Vienna        2.0\n",
       "Warsaw        2.0\n",
       "Zurich        2.0\n",
       "Name: price range, dtype: float64"
      ]
     },
     "execution_count": 676,
     "metadata": {},
     "output_type": "execute_result"
    }
   ],
   "source": [
    "round(df.groupby('city')['price range'].mean(),0)"
   ]
  },
  {
   "cell_type": "code",
   "execution_count": 677,
   "metadata": {},
   "outputs": [],
   "source": [
    "df['price range'].fillna(2, inplace = True)"
   ]
  },
  {
   "cell_type": "markdown",
   "metadata": {},
   "source": [
    "#### Рассмотрим столбец 'number of reviews' и проанализируем его"
   ]
  },
  {
   "cell_type": "code",
   "execution_count": 678,
   "metadata": {},
   "outputs": [
    {
     "data": {
      "text/plain": [
       "2543"
      ]
     },
     "execution_count": 678,
     "metadata": {},
     "output_type": "execute_result"
    }
   ],
   "source": [
    "df['number of reviews'].isna().sum()"
   ]
  },
  {
   "cell_type": "markdown",
   "metadata": {},
   "source": [
    "Столбец содержит 2543 пропуска, в целом это не очень много на данном объеме данных (около 6%). Перед тем как выбрать способ заполнения пустых ячеек, посмотрим на наличие выбросов."
   ]
  },
  {
   "cell_type": "code",
   "execution_count": 679,
   "metadata": {},
   "outputs": [
    {
     "data": {
      "text/plain": [
       "<matplotlib.axes._subplots.AxesSubplot at 0x1a4c9b12d0>"
      ]
     },
     "execution_count": 679,
     "metadata": {},
     "output_type": "execute_result"
    },
    {
     "data": {
      "image/png": "[encoded data removed]",
      "text/plain": [
       "<Figure size 720x720 with 1 Axes>"
      ]
     },
     "metadata": {
      "needs_background": "light"
     },
     "output_type": "display_data"
    }
   ],
   "source": [
    "df['number of reviews'].hist(bins = 2)"
   ]
  },
  {
   "cell_type": "code",
   "execution_count": 682,
   "metadata": {},
   "outputs": [
    {
     "data": {
      "text/plain": [
       "5635.214000002132"
      ]
     },
     "execution_count": 682,
     "metadata": {},
     "output_type": "execute_result"
    }
   ],
   "source": [
    "q = df['number of reviews'].quantile(0.99975)\n",
    "q"
   ]
  },
  {
   "cell_type": "markdown",
   "metadata": {},
   "source": [
    "поскольку определение выбросов методом межквартильного размаха (1,5IQR) отсекает очень большое количество данных,\n",
    "то будем считать, что выбросами будут значения не входящие в 99,9% выборки. Отсеим их."
   ]
  },
  {
   "cell_type": "code",
   "execution_count": 683,
   "metadata": {},
   "outputs": [
    {
     "data": {
      "text/plain": [
       "<matplotlib.axes._subplots.AxesSubplot at 0x1a4bf0dad0>"
      ]
     },
     "execution_count": 683,
     "metadata": {},
     "output_type": "execute_result"
    },
    {
     "data": {
      "image/png": "[encoded data removed]",
      "text/plain": [
       "<Figure size 720x720 with 1 Axes>"
      ]
     },
     "metadata": {
      "needs_background": "light"
     },
     "output_type": "display_data"
    }
   ],
   "source": [
    "df = df.loc[df['number of reviews'] < q]\n",
    "df['number of reviews'].hist(bins = 5)"
   ]
  },
  {
   "cell_type": "code",
   "execution_count": 684,
   "metadata": {},
   "outputs": [
    {
     "name": "stdout",
     "output_type": "stream",
     "text": [
      "<class 'pandas.core.frame.DataFrame'>\n",
      "Int64Index: 37427 entries, 0 to 39999\n",
      "Data columns (total 9 columns):\n",
      " #   Column             Non-Null Count  Dtype  \n",
      "---  ------             --------------  -----  \n",
      " 0   city               37427 non-null  object \n",
      " 1   cuisine style      29505 non-null  object \n",
      " 2   ranking            37427 non-null  float64\n",
      " 3   rating             37427 non-null  float64\n",
      " 4   price range        37427 non-null  float64\n",
      " 5   number of reviews  37427 non-null  float64\n",
      " 6   reviews            37427 non-null  object \n",
      " 7   url_ta             37427 non-null  object \n",
      " 8   id_ta              37427 non-null  object \n",
      "dtypes: float64(4), object(5)\n",
      "memory usage: 2.9+ MB\n"
     ]
    }
   ],
   "source": [
    "df.info()"
   ]
  },
  {
   "cell_type": "code",
   "execution_count": 685,
   "metadata": {},
   "outputs": [
    {
     "name": "stderr",
     "output_type": "stream",
     "text": [
      "/Users/alexrassomagin/opt/anaconda3/lib/python3.7/site-packages/pandas/core/generic.py:6245: SettingWithCopyWarning: \n",
      "A value is trying to be set on a copy of a slice from a DataFrame\n",
      "\n",
      "See the caveats in the documentation: https://pandas.pydata.org/pandas-docs/stable/user_guide/indexing.html#returning-a-view-versus-a-copy\n",
      "  self._update_inplace(new_data)\n"
     ]
    }
   ],
   "source": [
    "df['number of reviews'].fillna(df['number of reviews'].mean(), inplace = True)"
   ]
  },
  {
   "cell_type": "markdown",
   "metadata": {},
   "source": [
    "#### Обработаем информацию представленную в столбце city"
   ]
  },
  {
   "cell_type": "code",
   "execution_count": 686,
   "metadata": {},
   "outputs": [
    {
     "data": {
      "text/plain": [
       "<matplotlib.axes._subplots.AxesSubplot at 0x1a4c6f9ad0>"
      ]
     },
     "execution_count": 686,
     "metadata": {},
     "output_type": "execute_result"
    },
    {
     "data": {
      "image/png": "[encoded data removed]",
      "text/plain": [
       "<Figure size 720x720 with 1 Axes>"
      ]
     },
     "metadata": {
      "needs_background": "light"
     },
     "output_type": "display_data"
    }
   ],
   "source": [
    "df.city.hist(xrot = 90)"
   ]
  },
  {
   "cell_type": "markdown",
   "metadata": {},
   "source": [
    "Столбец содержит информацию о городе нахождения того или иного ресторана. пропуски в столбце отсутствуют. Поработаем с данным столбцом следующим образом:\n",
    " - закодируем столбцы числовыми данными\n",
    " - вычленим столицы и закодируем значения\n",
    " - вычленим страны и закодируем значения\n",
    " - создадим dummi переменные\n",
    " "
   ]
  },
  {
   "cell_type": "code",
   "execution_count": 687,
   "metadata": {},
   "outputs": [
    {
     "name": "stderr",
     "output_type": "stream",
     "text": [
      "/Users/alexrassomagin/opt/anaconda3/lib/python3.7/site-packages/ipykernel_launcher.py:1: SettingWithCopyWarning: \n",
      "A value is trying to be set on a copy of a slice from a DataFrame.\n",
      "Try using .loc[row_indexer,col_indexer] = value instead\n",
      "\n",
      "See the caveats in the documentation: https://pandas.pydata.org/pandas-docs/stable/user_guide/indexing.html#returning-a-view-versus-a-copy\n",
      "  \"\"\"Entry point for launching an IPython kernel.\n",
      "/Users/alexrassomagin/opt/anaconda3/lib/python3.7/site-packages/ipykernel_launcher.py:4: SettingWithCopyWarning: \n",
      "A value is trying to be set on a copy of a slice from a DataFrame.\n",
      "Try using .loc[row_indexer,col_indexer] = value instead\n",
      "\n",
      "See the caveats in the documentation: https://pandas.pydata.org/pandas-docs/stable/user_guide/indexing.html#returning-a-view-versus-a-copy\n",
      "  after removing the cwd from sys.path.\n"
     ]
    }
   ],
   "source": [
    "df['city_code'] = df['city']\n",
    "le = LabelEncoder()\n",
    "le.fit(df['city_code'])\n",
    "df['city_code'] = le.transform(df['city_code'])"
   ]
  },
  {
   "cell_type": "code",
   "execution_count": 688,
   "metadata": {},
   "outputs": [
    {
     "name": "stderr",
     "output_type": "stream",
     "text": [
      "/Users/alexrassomagin/opt/anaconda3/lib/python3.7/site-packages/ipykernel_launcher.py:12: SettingWithCopyWarning: \n",
      "A value is trying to be set on a copy of a slice from a DataFrame.\n",
      "Try using .loc[row_indexer,col_indexer] = value instead\n",
      "\n",
      "See the caveats in the documentation: https://pandas.pydata.org/pandas-docs/stable/user_guide/indexing.html#returning-a-view-versus-a-copy\n",
      "  if sys.path[0] == '':\n",
      "/Users/alexrassomagin/opt/anaconda3/lib/python3.7/site-packages/ipykernel_launcher.py:16: SettingWithCopyWarning: \n",
      "A value is trying to be set on a copy of a slice from a DataFrame.\n",
      "Try using .loc[row_indexer,col_indexer] = value instead\n",
      "\n",
      "See the caveats in the documentation: https://pandas.pydata.org/pandas-docs/stable/user_guide/indexing.html#returning-a-view-versus-a-copy\n",
      "  app.launch_new_instance()\n"
     ]
    }
   ],
   "source": [
    "dict_Сountries = {'London' : 'England', 'Paris' : 'France', 'Madrid' : 'Spain', \n",
    "                  'Barcelona' : 'Spain', 'Berlin' : 'Germany', 'Milan' : 'Italy', \n",
    "                  'Rome' : 'Italy', 'Prague' : 'Czech_c', 'Lisbon' : 'Portugal', \n",
    "                  'Vienna' : 'Austria', 'Amsterdam' : 'Holland', \n",
    "                  'Brussels' : 'Belgium', 'Hamburg' : 'Germany', 'Munich' : 'Germany', \n",
    "                  'Lyon' : 'France', 'Stockholm' : 'Sweden', 'Budapest' : 'Romania', \n",
    "                  'Warsaw' : 'Poland', 'Dublin' : 'Ireland', 'Copenhagen' : 'Denmark', \n",
    "                  'Athens' : 'Greece', 'Edinburgh' : 'Scotland', 'Zurich' : 'Switzerland', \n",
    "                  'Oporto' : 'Portugal', 'Geneva' : 'Switzerland', 'Krakow' : 'Poland', \n",
    "                  'Oslo' : 'Norway', 'Helsinki' : 'Finland', 'Bratislava' : 'Slovakia', \n",
    "                  'Luxembourg' : 'Luxembourg_c', 'Ljubljana' : 'Slovenia'}\n",
    "df['country'] = df.apply(lambda row: dict_Сountries[row['city']], axis = 1)\n",
    "\n",
    "le = LabelEncoder()\n",
    "le.fit(df['country'])\n",
    "df['code_country'] = le.transform(df['country'])"
   ]
  },
  {
   "cell_type": "code",
   "execution_count": 689,
   "metadata": {},
   "outputs": [
    {
     "name": "stderr",
     "output_type": "stream",
     "text": [
      "/Users/alexrassomagin/opt/anaconda3/lib/python3.7/site-packages/ipykernel_launcher.py:3: SettingWithCopyWarning: \n",
      "A value is trying to be set on a copy of a slice from a DataFrame.\n",
      "Try using .loc[row_indexer,col_indexer] = value instead\n",
      "\n",
      "See the caveats in the documentation: https://pandas.pydata.org/pandas-docs/stable/user_guide/indexing.html#returning-a-view-versus-a-copy\n",
      "  This is separate from the ipykernel package so we can avoid doing imports until\n"
     ]
    }
   ],
   "source": [
    "list_Of_NotCapitalCity = ['Barcelona', 'Milan', 'Hamburg', 'Munich', \n",
    "                          'Lyon', 'Zurich', 'Oporto', 'Geneva', 'Krakow']\n",
    "df['capital_city'] = df['city'].apply(lambda x: 0.0 if x in list_Of_NotCapitalCity else 1.0)"
   ]
  },
  {
   "cell_type": "code",
   "execution_count": 690,
   "metadata": {},
   "outputs": [],
   "source": [
    "df_dummies_city = pd.get_dummies(df.city)\n",
    "df = pd.merge(df, df_dummies_city, left_index=True, right_index=True)"
   ]
  },
  {
   "cell_type": "markdown",
   "metadata": {},
   "source": [
    "Столбец city можно удалить, также можем поступить и со столбцом country"
   ]
  },
  {
   "cell_type": "code",
   "execution_count": 691,
   "metadata": {},
   "outputs": [],
   "source": [
    "df.drop(['city'], inplace = True, axis = 1)\n",
    "df.drop(['country'], inplace = True, axis = 1)\n",
    "df.drop(['id_ta'], inplace = True, axis = 1)\n",
    "df.drop(['url_ta'], inplace = True, axis = 1)"
   ]
  },
  {
   "cell_type": "markdown",
   "metadata": {},
   "source": [
    "#### Проведем анализ столбца cuisine style"
   ]
  },
  {
   "cell_type": "code",
   "execution_count": 692,
   "metadata": {},
   "outputs": [
    {
     "data": {
      "text/plain": [
       "7922"
      ]
     },
     "execution_count": 692,
     "metadata": {},
     "output_type": "execute_result"
    }
   ],
   "source": [
    "df['cuisine style'].isna().sum()"
   ]
  },
  {
   "cell_type": "markdown",
   "metadata": {},
   "source": [
    "В столбце содержится информация о кухнях представленных в ресторане. при этом в одном ресторане может быть представлено более одно кухни. Столбец содержит 7922 пропусков. Проведем со столбцом следующие операции:\n",
    "- заполним пустые ячейки значением other\n",
    "- обработаем столбец и сгенерим dummi переменные\n",
    "- введем новый признак в виде количества кухонь представленных в ресторане"
   ]
  },
  {
   "cell_type": "code",
   "execution_count": 693,
   "metadata": {},
   "outputs": [],
   "source": [
    "df['cuisine style'] = df['cuisine style'].fillna(\"['other']\")"
   ]
  },
  {
   "cell_type": "code",
   "execution_count": null,
   "metadata": {},
   "outputs": [],
   "source": []
  },
  {
   "cell_type": "code",
   "execution_count": 694,
   "metadata": {},
   "outputs": [],
   "source": [
    "from yaml import safe_load \n",
    "from sklearn.preprocessing import MultiLabelBinarizer\n",
    "\n",
    "mlb = MultiLabelBinarizer(sparse_output=True)\n",
    "\n",
    "tmp = df[\"cuisine style\"].dropna().apply(safe_load).dropna()\n",
    "\n",
    "X = pd.DataFrame.sparse.from_spmatrix(\n",
    "        mlb.fit_transform(tmp), \n",
    "        columns=mlb.classes_, \n",
    "        index=tmp.index)\n",
    "\n",
    "df = df.join(X, how=\"left\")"
   ]
  },
  {
   "cell_type": "code",
   "execution_count": 695,
   "metadata": {},
   "outputs": [],
   "source": [
    "df[\"amount of cuisines\"] = df.iloc[:,40:].sum(axis=1)"
   ]
  },
  {
   "cell_type": "markdown",
   "metadata": {},
   "source": [
    "Столбец cuisine style можем теперь удалить"
   ]
  },
  {
   "cell_type": "code",
   "execution_count": 696,
   "metadata": {},
   "outputs": [],
   "source": [
    "df.drop(['cuisine style'], inplace = True, axis = 1)"
   ]
  },
  {
   "cell_type": "markdown",
   "metadata": {},
   "source": [
    "#### Проведем анализ столбца ranking"
   ]
  },
  {
   "cell_type": "code",
   "execution_count": 697,
   "metadata": {},
   "outputs": [
    {
     "data": {
      "text/plain": [
       "<matplotlib.axes._subplots.AxesSubplot at 0x1a41bdf390>"
      ]
     },
     "execution_count": 697,
     "metadata": {},
     "output_type": "execute_result"
    },
    {
     "data": {
      "image/png": "[encoded data removed]",
      "text/plain": [
       "<Figure size 720x720 with 1 Axes>"
      ]
     },
     "metadata": {
      "needs_background": "light"
     },
     "output_type": "display_data"
    }
   ],
   "source": [
    "df.groupby('city_code')['ranking'].mean().hist()"
   ]
  },
  {
   "cell_type": "code",
   "execution_count": 698,
   "metadata": {},
   "outputs": [
    {
     "data": {
      "text/plain": [
       "<matplotlib.axes._subplots.AxesSubplot at 0x1a4d249dd0>"
      ]
     },
     "execution_count": 698,
     "metadata": {},
     "output_type": "execute_result"
    },
    {
     "data": {
      "image/png": "[encoded data removed]",
      "text/plain": [
       "<Figure size 720x720 with 1 Axes>"
      ]
     },
     "metadata": {
      "needs_background": "light"
     },
     "output_type": "display_data"
    }
   ],
   "source": [
    "df.groupby('code_country')['ranking'].mean().hist()"
   ]
  },
  {
   "cell_type": "markdown",
   "metadata": {},
   "source": [
    "предлагается провести с данным столбцом провести MinMax нормализацию"
   ]
  },
  {
   "cell_type": "code",
   "execution_count": 699,
   "metadata": {},
   "outputs": [],
   "source": [
    "from sklearn.preprocessing import MinMaxScaler\n",
    "scaler = MinMaxScaler()\n",
    "df.ranking = scaler.fit_transform(df.ranking.values.reshape(-1, 1))"
   ]
  },
  {
   "cell_type": "markdown",
   "metadata": {},
   "source": [
    "#### Поработаем с данными в столбце reviews"
   ]
  },
  {
   "cell_type": "code",
   "execution_count": 700,
   "metadata": {},
   "outputs": [
    {
     "data": {
      "text/plain": [
       "0"
      ]
     },
     "execution_count": 700,
     "metadata": {},
     "output_type": "execute_result"
    }
   ],
   "source": [
    "df.reviews.isna().sum()"
   ]
  },
  {
   "cell_type": "code",
   "execution_count": 701,
   "metadata": {},
   "outputs": [
    {
     "data": {
      "text/plain": [
       "[[], []]                                                                                                                         4868\n",
       "[['Best brunch ever!!', 'Adorable fashion shop with a mini kitchen...'], ['05/21/2016', '11/18/2014']]                              1\n",
       "[['Best cafe to chill out', 'Crayfish Party'], ['12/27/2017', '09/25/2017']]                                                        1\n",
       "[['Great restaurant with a nice atmosphere, g...', 'surprisingly good food near Divoka Sarka'], ['08/28/2016', '05/31/2016']]       1\n",
       "[['A pleasant surprise', 'Trendy'], ['12/04/2017', '12/01/2017']]                                                                   1\n",
       "                                                                                                                                 ... \n",
       "[['Awesome local dive bar in the heart of Tra...', 'Cool bar - cheap prices'], ['12/06/2017', '12/06/2017']]                        1\n",
       "[['First taste of Curry Wurst'], ['07/10/2016']]                                                                                    1\n",
       "[['Best Spaghetti alla borttarga!', 'Small and friendly'], ['11/09/2017', '09/26/2017']]                                            1\n",
       "[['Tasting evening with friends', 'Great Mediterranian food!'], ['10/14/2017', '10/13/2017']]                                       1\n",
       "[['Table outside & sushis', 'Good food but very slow service'], ['07/21/2017', '08/24/2017']]                                       1\n",
       "Name: reviews, Length: 32560, dtype: int64"
      ]
     },
     "execution_count": 701,
     "metadata": {},
     "output_type": "execute_result"
    }
   ],
   "source": [
    "df.reviews.value_counts()"
   ]
  },
  {
   "cell_type": "markdown",
   "metadata": {},
   "source": [
    "В данном столбце нет пустых значений, но есть значения, которые не несут в себе никакой информации('[[], []]') и их достаточно много.\n",
    "Поработаем над информацией в столбце. Видно, что в ячейках присутствуют как сами отзывы, так и даты. Первым делом предлагается поработать с датам и вычленить их с помощью регулярных выражений."
   ]
  },
  {
   "cell_type": "code",
   "execution_count": 702,
   "metadata": {},
   "outputs": [],
   "source": [
    "df['date_of_Review'] = df['reviews'].str.findall('\\d+/\\d+/\\d+')\n",
    "df['review_amount'] = df['date_of_Review'].apply(lambda x: len(x))"
   ]
  },
  {
   "cell_type": "markdown",
   "metadata": {},
   "source": [
    "Как видно в столбце может содержаться от одной даты до 3-х, видимо 3 даты содержится в тех случаях, когда пользователи в теле отзыва указывали дату (Например: 06/07/19 посетили ресторан...). Исходя из имеющейся информации запишем в отдельный столбец информацию о количестве дней с даты последнего отзыва и количество дней между двумя отзывами, если такая информация имеется."
   ]
  },
  {
   "cell_type": "code",
   "execution_count": 703,
   "metadata": {},
   "outputs": [],
   "source": [
    "def time_to_now(row):\n",
    "    if row['date_of_Review'] == []:\n",
    "        return None\n",
    "    return datetime.datetime.now() - pd.to_datetime(row['date_of_Review']).max()\n",
    "\n",
    "def time_between_Reviews(row):\n",
    "    if row['date_of_Review'] == []:\n",
    "        return None\n",
    "    return pd.to_datetime(row['date_of_Review']).max() - pd.to_datetime(row['date_of_Review']).min()"
   ]
  },
  {
   "cell_type": "code",
   "execution_count": 704,
   "metadata": {},
   "outputs": [],
   "source": [
    "df['day_to_now'] = df.apply(time_to_now, axis = 1).dt.days\n",
    "df['day_to_now'].fillna(0, inplace = True)"
   ]
  },
  {
   "cell_type": "code",
   "execution_count": 705,
   "metadata": {},
   "outputs": [],
   "source": [
    "df['day_between_Reviews'] = df[df['review_amount'] == 2].apply(time_between_Reviews, axis = 1).dt.days\n",
    "df['day_between_Reviews'].fillna(0, inplace = True)"
   ]
  },
  {
   "cell_type": "markdown",
   "metadata": {},
   "source": [
    "удалим ненужные столбцы"
   ]
  },
  {
   "cell_type": "code",
   "execution_count": 706,
   "metadata": {},
   "outputs": [],
   "source": [
    "df.drop(['reviews'], inplace = True, axis = 1)\n",
    "df.drop(['date_of_Review'], inplace = True, axis = 1)\n",
    "df.drop(['review_amount'], inplace = True, axis = 1)"
   ]
  },
  {
   "cell_type": "markdown",
   "metadata": {},
   "source": [
    "Проведем нормализацию столбцов day_to_now(время в днях с последнего отзыва), day_between_Reviews (время между отзывами, number of reviews (количество отзывов)"
   ]
  },
  {
   "cell_type": "code",
   "execution_count": 707,
   "metadata": {},
   "outputs": [],
   "source": [
    "from sklearn.preprocessing import MinMaxScaler\n",
    "scaler = MinMaxScaler()\n",
    "df.day_to_now = scaler.fit_transform(df.day_to_now.values.reshape(-1, 1))"
   ]
  },
  {
   "cell_type": "code",
   "execution_count": 708,
   "metadata": {},
   "outputs": [],
   "source": [
    "from sklearn.preprocessing import MinMaxScaler\n",
    "scaler = MinMaxScaler()\n",
    "df['day_between_Reviews'] = scaler.fit_transform(df['day_between_Reviews'].values.reshape(-1, 1))"
   ]
  },
  {
   "cell_type": "code",
   "execution_count": 709,
   "metadata": {},
   "outputs": [],
   "source": [
    "from sklearn.preprocessing import MinMaxScaler\n",
    "scaler = MinMaxScaler()\n",
    "df['number of reviews'] = scaler.fit_transform(df['number of reviews'].values.reshape(-1, 1))"
   ]
  },
  {
   "cell_type": "markdown",
   "metadata": {},
   "source": [
    "построим матрицу корреляций для полученного датасета, который является входным для модели предсказания. Убедимся, что коррелирующие признаки отсутствуют"
   ]
  },
  {
   "cell_type": "code",
   "execution_count": 710,
   "metadata": {},
   "outputs": [
    {
     "data": {
      "image/png": "[encoded data removed]",
      "text/plain": [
       "<Figure size 720x720 with 2 Axes>"
      ]
     },
     "metadata": {
      "needs_background": "light"
     },
     "output_type": "display_data"
    }
   ],
   "source": [
    "ax = sns.heatmap(df[['ranking', \n",
    "    'price range', \n",
    "    'number of reviews', \n",
    "    'city_code', \n",
    "    'code_country', \n",
    "    'amount of cuisines', 'day_to_now', 'day_between_Reviews']].corr(), annot=True, fmt='.2g')"
   ]
  },
  {
   "cell_type": "markdown",
   "metadata": {},
   "source": [
    "Из матрицы корреляций интересно отметить, что чем больше представлено в ресторане видов кухонь, тем больше отзывов получает такой ресторан"
   ]
  },
  {
   "cell_type": "markdown",
   "metadata": {},
   "source": [
    "# Разбиваем датафрейм на части, необходимые для обучения и тестирования модели"
   ]
  },
  {
   "cell_type": "code",
   "execution_count": 711,
   "metadata": {},
   "outputs": [],
   "source": [
    "# Х - данные с информацией о ресторанах, у - целевая переменная (рейтинги ресторанов)\n",
    "X = df.drop(['rating','capital_city'], axis = 1)\n",
    "y = df['rating']"
   ]
  },
  {
   "cell_type": "code",
   "execution_count": 712,
   "metadata": {},
   "outputs": [],
   "source": [
    "# Загружаем специальный инструмент для разбивки:\n",
    "from sklearn.model_selection import train_test_split"
   ]
  },
  {
   "cell_type": "code",
   "execution_count": 713,
   "metadata": {},
   "outputs": [],
   "source": [
    "# Наборы данных с меткой \"train\" будут использоваться для обучения модели, \"test\" - для тестирования.\n",
    "# Для тестирования мы будем использовать 25% от исходного датасета.\n",
    "X_train, X_test, y_train, y_test = train_test_split(X, y, test_size=0.25)"
   ]
  },
  {
   "cell_type": "markdown",
   "metadata": {},
   "source": [
    "# Создаём, обучаем и тестируем модель"
   ]
  },
  {
   "cell_type": "code",
   "execution_count": 714,
   "metadata": {},
   "outputs": [],
   "source": [
    "# Импортируем необходимые библиотеки:\n",
    "from sklearn.ensemble import RandomForestRegressor # инструмент для создания и обучения модели\n",
    "from sklearn import metrics # инструменты для оценки точности модели"
   ]
  },
  {
   "cell_type": "code",
   "execution_count": 715,
   "metadata": {},
   "outputs": [],
   "source": [
    "# Создаём модель\n",
    "regr = RandomForestRegressor(n_estimators=100)\n",
    "\n",
    "# Обучаем модель на тестовом наборе данных\n",
    "regr.fit(X_train, y_train)\n",
    "\n",
    "# Используем обученную модель для предсказания рейтинга ресторанов в тестовой выборке.\n",
    "# Предсказанные значения записываем в переменную y_pred\n",
    "y_pred = regr.predict(X_test)"
   ]
  },
  {
   "cell_type": "code",
   "execution_count": 716,
   "metadata": {},
   "outputs": [
    {
     "name": "stdout",
     "output_type": "stream",
     "text": [
      "MAE: 0.21520626269103343\n"
     ]
    }
   ],
   "source": [
    "# Сравниваем предсказанные значения (y_pred) с реальными (y_test), и смотрим насколько они в среднем отличаются\n",
    "# Метрика называется Mean Absolute Error (MAE) и показывает среднее отклонение предсказанных значений от фактических.\n",
    "print('MAE:', metrics.mean_absolute_error(y_test, y_pred))"
   ]
  },
  {
   "cell_type": "markdown",
   "metadata": {},
   "source": [
    "### Выведем основные параметры входных данных и их степень влияния на точность модели"
   ]
  },
  {
   "cell_type": "code",
   "execution_count": 717,
   "metadata": {},
   "outputs": [
    {
     "data": {
      "text/plain": [
       "<matplotlib.axes._subplots.AxesSubplot at 0x1a48ec9990>"
      ]
     },
     "execution_count": 717,
     "metadata": {},
     "output_type": "execute_result"
    },
    {
     "data": {
      "image/png": "[encoded data removed]",
      "text/plain": [
       "<Figure size 720x720 with 1 Axes>"
      ]
     },
     "metadata": {
      "needs_background": "light"
     },
     "output_type": "display_data"
    }
   ],
   "source": [
    "plt.rcParams['figure.figsize'] = (10,10)\n",
    "feat_importances = pd.Series(regr.feature_importances_, index=X.columns)\n",
    "feat_importances.nlargest(15).plot(kind='barh')"
   ]
  },
  {
   "cell_type": "code",
   "execution_count": null,
   "metadata": {},
   "outputs": [],
   "source": []
  }
 ],
 "metadata": {
  "kernelspec": {
   "display_name": "Python 3",
   "language": "python",
   "name": "python3"
  },
  "language_info": {
   "codemirror_mode": {
    "name": "ipython",
    "version": 3
   },
   "file_extension": ".py",
   "mimetype": "text/x-python",
   "name": "python",
   "nbconvert_exporter": "python",
   "pygments_lexer": "ipython3",
   "version": "3.7.6"
  }
 },
 "nbformat": 4,
 "nbformat_minor": 2
}
